{
 "cells": [
  {
   "cell_type": "code",
   "execution_count": 1,
   "metadata": {},
   "outputs": [],
   "source": [
    "# importing libraries\n",
    "import pandas as pd\n",
    "import numpy as np\n",
    "import matplotlib.pyplot as plt\n",
    "import seaborn as sns"
   ]
  },
  {
   "cell_type": "code",
   "execution_count": 2,
   "metadata": {},
   "outputs": [
    {
     "data": {
      "text/html": [
       "<div>\n",
       "<style scoped>\n",
       "    .dataframe tbody tr th:only-of-type {\n",
       "        vertical-align: middle;\n",
       "    }\n",
       "\n",
       "    .dataframe tbody tr th {\n",
       "        vertical-align: top;\n",
       "    }\n",
       "\n",
       "    .dataframe thead th {\n",
       "        text-align: right;\n",
       "    }\n",
       "</style>\n",
       "<table border=\"1\" class=\"dataframe\">\n",
       "  <thead>\n",
       "    <tr style=\"text-align: right;\">\n",
       "      <th></th>\n",
       "      <th>Item_Identifier</th>\n",
       "      <th>Item_Weight</th>\n",
       "      <th>Item_Fat_Content</th>\n",
       "      <th>Item_Visibility</th>\n",
       "      <th>Item_Type</th>\n",
       "      <th>Item_MRP</th>\n",
       "      <th>Outlet_Identifier</th>\n",
       "      <th>Outlet_Establishment_Year</th>\n",
       "      <th>Outlet_Size</th>\n",
       "      <th>Outlet_Location_Type</th>\n",
       "      <th>Outlet_Type</th>\n",
       "      <th>Item_Outlet_Sales</th>\n",
       "    </tr>\n",
       "  </thead>\n",
       "  <tbody>\n",
       "    <tr>\n",
       "      <th>0</th>\n",
       "      <td>FDA15</td>\n",
       "      <td>9.300</td>\n",
       "      <td>Low Fat</td>\n",
       "      <td>0.016047</td>\n",
       "      <td>Dairy</td>\n",
       "      <td>249.8092</td>\n",
       "      <td>OUT049</td>\n",
       "      <td>1999</td>\n",
       "      <td>Medium</td>\n",
       "      <td>Tier 1</td>\n",
       "      <td>Supermarket Type1</td>\n",
       "      <td>3735.1380</td>\n",
       "    </tr>\n",
       "    <tr>\n",
       "      <th>1</th>\n",
       "      <td>DRC01</td>\n",
       "      <td>5.920</td>\n",
       "      <td>Regular</td>\n",
       "      <td>0.019278</td>\n",
       "      <td>Soft Drinks</td>\n",
       "      <td>48.2692</td>\n",
       "      <td>OUT018</td>\n",
       "      <td>2009</td>\n",
       "      <td>Medium</td>\n",
       "      <td>Tier 3</td>\n",
       "      <td>Supermarket Type2</td>\n",
       "      <td>443.4228</td>\n",
       "    </tr>\n",
       "    <tr>\n",
       "      <th>2</th>\n",
       "      <td>FDN15</td>\n",
       "      <td>17.500</td>\n",
       "      <td>Low Fat</td>\n",
       "      <td>0.016760</td>\n",
       "      <td>Meat</td>\n",
       "      <td>141.6180</td>\n",
       "      <td>OUT049</td>\n",
       "      <td>1999</td>\n",
       "      <td>Medium</td>\n",
       "      <td>Tier 1</td>\n",
       "      <td>Supermarket Type1</td>\n",
       "      <td>2097.2700</td>\n",
       "    </tr>\n",
       "    <tr>\n",
       "      <th>3</th>\n",
       "      <td>FDX07</td>\n",
       "      <td>19.200</td>\n",
       "      <td>Regular</td>\n",
       "      <td>0.000000</td>\n",
       "      <td>Fruits and Vegetables</td>\n",
       "      <td>182.0950</td>\n",
       "      <td>OUT010</td>\n",
       "      <td>1998</td>\n",
       "      <td>NaN</td>\n",
       "      <td>Tier 3</td>\n",
       "      <td>Grocery Store</td>\n",
       "      <td>732.3800</td>\n",
       "    </tr>\n",
       "    <tr>\n",
       "      <th>4</th>\n",
       "      <td>NCD19</td>\n",
       "      <td>8.930</td>\n",
       "      <td>Low Fat</td>\n",
       "      <td>0.000000</td>\n",
       "      <td>Household</td>\n",
       "      <td>53.8614</td>\n",
       "      <td>OUT013</td>\n",
       "      <td>1987</td>\n",
       "      <td>High</td>\n",
       "      <td>Tier 3</td>\n",
       "      <td>Supermarket Type1</td>\n",
       "      <td>994.7052</td>\n",
       "    </tr>\n",
       "    <tr>\n",
       "      <th>5</th>\n",
       "      <td>FDP36</td>\n",
       "      <td>10.395</td>\n",
       "      <td>Regular</td>\n",
       "      <td>0.000000</td>\n",
       "      <td>Baking Goods</td>\n",
       "      <td>51.4008</td>\n",
       "      <td>OUT018</td>\n",
       "      <td>2009</td>\n",
       "      <td>Medium</td>\n",
       "      <td>Tier 3</td>\n",
       "      <td>Supermarket Type2</td>\n",
       "      <td>556.6088</td>\n",
       "    </tr>\n",
       "    <tr>\n",
       "      <th>6</th>\n",
       "      <td>FDO10</td>\n",
       "      <td>13.650</td>\n",
       "      <td>Regular</td>\n",
       "      <td>0.012741</td>\n",
       "      <td>Snack Foods</td>\n",
       "      <td>57.6588</td>\n",
       "      <td>OUT013</td>\n",
       "      <td>1987</td>\n",
       "      <td>High</td>\n",
       "      <td>Tier 3</td>\n",
       "      <td>Supermarket Type1</td>\n",
       "      <td>343.5528</td>\n",
       "    </tr>\n",
       "    <tr>\n",
       "      <th>7</th>\n",
       "      <td>FDP10</td>\n",
       "      <td>NaN</td>\n",
       "      <td>Low Fat</td>\n",
       "      <td>0.127470</td>\n",
       "      <td>Snack Foods</td>\n",
       "      <td>107.7622</td>\n",
       "      <td>OUT027</td>\n",
       "      <td>1985</td>\n",
       "      <td>Medium</td>\n",
       "      <td>Tier 3</td>\n",
       "      <td>Supermarket Type3</td>\n",
       "      <td>4022.7636</td>\n",
       "    </tr>\n",
       "    <tr>\n",
       "      <th>8</th>\n",
       "      <td>FDH17</td>\n",
       "      <td>16.200</td>\n",
       "      <td>Regular</td>\n",
       "      <td>0.016687</td>\n",
       "      <td>Frozen Foods</td>\n",
       "      <td>96.9726</td>\n",
       "      <td>OUT045</td>\n",
       "      <td>2002</td>\n",
       "      <td>NaN</td>\n",
       "      <td>Tier 2</td>\n",
       "      <td>Supermarket Type1</td>\n",
       "      <td>1076.5986</td>\n",
       "    </tr>\n",
       "    <tr>\n",
       "      <th>9</th>\n",
       "      <td>FDU28</td>\n",
       "      <td>19.200</td>\n",
       "      <td>Regular</td>\n",
       "      <td>0.094450</td>\n",
       "      <td>Frozen Foods</td>\n",
       "      <td>187.8214</td>\n",
       "      <td>OUT017</td>\n",
       "      <td>2007</td>\n",
       "      <td>NaN</td>\n",
       "      <td>Tier 2</td>\n",
       "      <td>Supermarket Type1</td>\n",
       "      <td>4710.5350</td>\n",
       "    </tr>\n",
       "    <tr>\n",
       "      <th>10</th>\n",
       "      <td>FDY07</td>\n",
       "      <td>11.800</td>\n",
       "      <td>Low Fat</td>\n",
       "      <td>0.000000</td>\n",
       "      <td>Fruits and Vegetables</td>\n",
       "      <td>45.5402</td>\n",
       "      <td>OUT049</td>\n",
       "      <td>1999</td>\n",
       "      <td>Medium</td>\n",
       "      <td>Tier 1</td>\n",
       "      <td>Supermarket Type1</td>\n",
       "      <td>1516.0266</td>\n",
       "    </tr>\n",
       "    <tr>\n",
       "      <th>11</th>\n",
       "      <td>FDA03</td>\n",
       "      <td>18.500</td>\n",
       "      <td>Regular</td>\n",
       "      <td>0.045464</td>\n",
       "      <td>Dairy</td>\n",
       "      <td>144.1102</td>\n",
       "      <td>OUT046</td>\n",
       "      <td>1997</td>\n",
       "      <td>Small</td>\n",
       "      <td>Tier 1</td>\n",
       "      <td>Supermarket Type1</td>\n",
       "      <td>2187.1530</td>\n",
       "    </tr>\n",
       "    <tr>\n",
       "      <th>12</th>\n",
       "      <td>FDX32</td>\n",
       "      <td>15.100</td>\n",
       "      <td>Regular</td>\n",
       "      <td>0.100014</td>\n",
       "      <td>Fruits and Vegetables</td>\n",
       "      <td>145.4786</td>\n",
       "      <td>OUT049</td>\n",
       "      <td>1999</td>\n",
       "      <td>Medium</td>\n",
       "      <td>Tier 1</td>\n",
       "      <td>Supermarket Type1</td>\n",
       "      <td>1589.2646</td>\n",
       "    </tr>\n",
       "    <tr>\n",
       "      <th>13</th>\n",
       "      <td>FDS46</td>\n",
       "      <td>17.600</td>\n",
       "      <td>Regular</td>\n",
       "      <td>0.047257</td>\n",
       "      <td>Snack Foods</td>\n",
       "      <td>119.6782</td>\n",
       "      <td>OUT046</td>\n",
       "      <td>1997</td>\n",
       "      <td>Small</td>\n",
       "      <td>Tier 1</td>\n",
       "      <td>Supermarket Type1</td>\n",
       "      <td>2145.2076</td>\n",
       "    </tr>\n",
       "    <tr>\n",
       "      <th>14</th>\n",
       "      <td>FDF32</td>\n",
       "      <td>16.350</td>\n",
       "      <td>Low Fat</td>\n",
       "      <td>0.068024</td>\n",
       "      <td>Fruits and Vegetables</td>\n",
       "      <td>196.4426</td>\n",
       "      <td>OUT013</td>\n",
       "      <td>1987</td>\n",
       "      <td>High</td>\n",
       "      <td>Tier 3</td>\n",
       "      <td>Supermarket Type1</td>\n",
       "      <td>1977.4260</td>\n",
       "    </tr>\n",
       "    <tr>\n",
       "      <th>15</th>\n",
       "      <td>FDP49</td>\n",
       "      <td>9.000</td>\n",
       "      <td>Regular</td>\n",
       "      <td>0.069089</td>\n",
       "      <td>Breakfast</td>\n",
       "      <td>56.3614</td>\n",
       "      <td>OUT046</td>\n",
       "      <td>1997</td>\n",
       "      <td>Small</td>\n",
       "      <td>Tier 1</td>\n",
       "      <td>Supermarket Type1</td>\n",
       "      <td>1547.3192</td>\n",
       "    </tr>\n",
       "    <tr>\n",
       "      <th>16</th>\n",
       "      <td>NCB42</td>\n",
       "      <td>11.800</td>\n",
       "      <td>Low Fat</td>\n",
       "      <td>0.008596</td>\n",
       "      <td>Health and Hygiene</td>\n",
       "      <td>115.3492</td>\n",
       "      <td>OUT018</td>\n",
       "      <td>2009</td>\n",
       "      <td>Medium</td>\n",
       "      <td>Tier 3</td>\n",
       "      <td>Supermarket Type2</td>\n",
       "      <td>1621.8888</td>\n",
       "    </tr>\n",
       "    <tr>\n",
       "      <th>17</th>\n",
       "      <td>FDP49</td>\n",
       "      <td>9.000</td>\n",
       "      <td>Regular</td>\n",
       "      <td>0.069196</td>\n",
       "      <td>Breakfast</td>\n",
       "      <td>54.3614</td>\n",
       "      <td>OUT049</td>\n",
       "      <td>1999</td>\n",
       "      <td>Medium</td>\n",
       "      <td>Tier 1</td>\n",
       "      <td>Supermarket Type1</td>\n",
       "      <td>718.3982</td>\n",
       "    </tr>\n",
       "    <tr>\n",
       "      <th>18</th>\n",
       "      <td>DRI11</td>\n",
       "      <td>NaN</td>\n",
       "      <td>Low Fat</td>\n",
       "      <td>0.034238</td>\n",
       "      <td>Hard Drinks</td>\n",
       "      <td>113.2834</td>\n",
       "      <td>OUT027</td>\n",
       "      <td>1985</td>\n",
       "      <td>Medium</td>\n",
       "      <td>Tier 3</td>\n",
       "      <td>Supermarket Type3</td>\n",
       "      <td>2303.6680</td>\n",
       "    </tr>\n",
       "    <tr>\n",
       "      <th>19</th>\n",
       "      <td>FDU02</td>\n",
       "      <td>13.350</td>\n",
       "      <td>Low Fat</td>\n",
       "      <td>0.102492</td>\n",
       "      <td>Dairy</td>\n",
       "      <td>230.5352</td>\n",
       "      <td>OUT035</td>\n",
       "      <td>2004</td>\n",
       "      <td>Small</td>\n",
       "      <td>Tier 2</td>\n",
       "      <td>Supermarket Type1</td>\n",
       "      <td>2748.4224</td>\n",
       "    </tr>\n",
       "  </tbody>\n",
       "</table>\n",
       "</div>"
      ],
      "text/plain": [
       "   Item_Identifier  Item_Weight Item_Fat_Content  Item_Visibility  \\\n",
       "0            FDA15        9.300          Low Fat         0.016047   \n",
       "1            DRC01        5.920          Regular         0.019278   \n",
       "2            FDN15       17.500          Low Fat         0.016760   \n",
       "3            FDX07       19.200          Regular         0.000000   \n",
       "4            NCD19        8.930          Low Fat         0.000000   \n",
       "5            FDP36       10.395          Regular         0.000000   \n",
       "6            FDO10       13.650          Regular         0.012741   \n",
       "7            FDP10          NaN          Low Fat         0.127470   \n",
       "8            FDH17       16.200          Regular         0.016687   \n",
       "9            FDU28       19.200          Regular         0.094450   \n",
       "10           FDY07       11.800          Low Fat         0.000000   \n",
       "11           FDA03       18.500          Regular         0.045464   \n",
       "12           FDX32       15.100          Regular         0.100014   \n",
       "13           FDS46       17.600          Regular         0.047257   \n",
       "14           FDF32       16.350          Low Fat         0.068024   \n",
       "15           FDP49        9.000          Regular         0.069089   \n",
       "16           NCB42       11.800          Low Fat         0.008596   \n",
       "17           FDP49        9.000          Regular         0.069196   \n",
       "18           DRI11          NaN          Low Fat         0.034238   \n",
       "19           FDU02       13.350          Low Fat         0.102492   \n",
       "\n",
       "                Item_Type  Item_MRP Outlet_Identifier  \\\n",
       "0                   Dairy  249.8092            OUT049   \n",
       "1             Soft Drinks   48.2692            OUT018   \n",
       "2                    Meat  141.6180            OUT049   \n",
       "3   Fruits and Vegetables  182.0950            OUT010   \n",
       "4               Household   53.8614            OUT013   \n",
       "5            Baking Goods   51.4008            OUT018   \n",
       "6             Snack Foods   57.6588            OUT013   \n",
       "7             Snack Foods  107.7622            OUT027   \n",
       "8            Frozen Foods   96.9726            OUT045   \n",
       "9            Frozen Foods  187.8214            OUT017   \n",
       "10  Fruits and Vegetables   45.5402            OUT049   \n",
       "11                  Dairy  144.1102            OUT046   \n",
       "12  Fruits and Vegetables  145.4786            OUT049   \n",
       "13            Snack Foods  119.6782            OUT046   \n",
       "14  Fruits and Vegetables  196.4426            OUT013   \n",
       "15              Breakfast   56.3614            OUT046   \n",
       "16     Health and Hygiene  115.3492            OUT018   \n",
       "17              Breakfast   54.3614            OUT049   \n",
       "18            Hard Drinks  113.2834            OUT027   \n",
       "19                  Dairy  230.5352            OUT035   \n",
       "\n",
       "    Outlet_Establishment_Year Outlet_Size Outlet_Location_Type  \\\n",
       "0                        1999      Medium               Tier 1   \n",
       "1                        2009      Medium               Tier 3   \n",
       "2                        1999      Medium               Tier 1   \n",
       "3                        1998         NaN               Tier 3   \n",
       "4                        1987        High               Tier 3   \n",
       "5                        2009      Medium               Tier 3   \n",
       "6                        1987        High               Tier 3   \n",
       "7                        1985      Medium               Tier 3   \n",
       "8                        2002         NaN               Tier 2   \n",
       "9                        2007         NaN               Tier 2   \n",
       "10                       1999      Medium               Tier 1   \n",
       "11                       1997       Small               Tier 1   \n",
       "12                       1999      Medium               Tier 1   \n",
       "13                       1997       Small               Tier 1   \n",
       "14                       1987        High               Tier 3   \n",
       "15                       1997       Small               Tier 1   \n",
       "16                       2009      Medium               Tier 3   \n",
       "17                       1999      Medium               Tier 1   \n",
       "18                       1985      Medium               Tier 3   \n",
       "19                       2004       Small               Tier 2   \n",
       "\n",
       "          Outlet_Type  Item_Outlet_Sales  \n",
       "0   Supermarket Type1          3735.1380  \n",
       "1   Supermarket Type2           443.4228  \n",
       "2   Supermarket Type1          2097.2700  \n",
       "3       Grocery Store           732.3800  \n",
       "4   Supermarket Type1           994.7052  \n",
       "5   Supermarket Type2           556.6088  \n",
       "6   Supermarket Type1           343.5528  \n",
       "7   Supermarket Type3          4022.7636  \n",
       "8   Supermarket Type1          1076.5986  \n",
       "9   Supermarket Type1          4710.5350  \n",
       "10  Supermarket Type1          1516.0266  \n",
       "11  Supermarket Type1          2187.1530  \n",
       "12  Supermarket Type1          1589.2646  \n",
       "13  Supermarket Type1          2145.2076  \n",
       "14  Supermarket Type1          1977.4260  \n",
       "15  Supermarket Type1          1547.3192  \n",
       "16  Supermarket Type2          1621.8888  \n",
       "17  Supermarket Type1           718.3982  \n",
       "18  Supermarket Type3          2303.6680  \n",
       "19  Supermarket Type1          2748.4224  "
      ]
     },
     "execution_count": 2,
     "metadata": {},
     "output_type": "execute_result"
    }
   ],
   "source": [
    "# importing the train dataset\n",
    "data=pd.read_csv(r\"C:\\Users\\Anakha\\Downloads\\train_v9rqX0R.csv\")\n",
    "data.head(20)"
   ]
  },
  {
   "cell_type": "code",
   "execution_count": 3,
   "metadata": {
    "scrolled": false
   },
   "outputs": [
    {
     "name": "stdout",
     "output_type": "stream",
     "text": [
      "<class 'pandas.core.frame.DataFrame'>\n",
      "RangeIndex: 8523 entries, 0 to 8522\n",
      "Data columns (total 12 columns):\n",
      " #   Column                     Non-Null Count  Dtype  \n",
      "---  ------                     --------------  -----  \n",
      " 0   Item_Identifier            8523 non-null   object \n",
      " 1   Item_Weight                7060 non-null   float64\n",
      " 2   Item_Fat_Content           8523 non-null   object \n",
      " 3   Item_Visibility            8523 non-null   float64\n",
      " 4   Item_Type                  8523 non-null   object \n",
      " 5   Item_MRP                   8523 non-null   float64\n",
      " 6   Outlet_Identifier          8523 non-null   object \n",
      " 7   Outlet_Establishment_Year  8523 non-null   int64  \n",
      " 8   Outlet_Size                6113 non-null   object \n",
      " 9   Outlet_Location_Type       8523 non-null   object \n",
      " 10  Outlet_Type                8523 non-null   object \n",
      " 11  Item_Outlet_Sales          8523 non-null   float64\n",
      "dtypes: float64(4), int64(1), object(7)\n",
      "memory usage: 799.2+ KB\n"
     ]
    }
   ],
   "source": [
    "data.info()"
   ]
  },
  {
   "cell_type": "code",
   "execution_count": 4,
   "metadata": {},
   "outputs": [],
   "source": [
    "#converting year of type intger to object\n",
    "data['Outlet_Establishment_Year']=data['Outlet_Establishment_Year'].astype(object,copy=True)"
   ]
  },
  {
   "cell_type": "code",
   "execution_count": 5,
   "metadata": {},
   "outputs": [
    {
     "data": {
      "text/plain": [
       "Item_Identifier               object\n",
       "Item_Weight                  float64\n",
       "Item_Fat_Content              object\n",
       "Item_Visibility              float64\n",
       "Item_Type                     object\n",
       "Item_MRP                     float64\n",
       "Outlet_Identifier             object\n",
       "Outlet_Establishment_Year     object\n",
       "Outlet_Size                   object\n",
       "Outlet_Location_Type          object\n",
       "Outlet_Type                   object\n",
       "Item_Outlet_Sales            float64\n",
       "dtype: object"
      ]
     },
     "execution_count": 5,
     "metadata": {},
     "output_type": "execute_result"
    }
   ],
   "source": [
    "data.dtypes"
   ]
  },
  {
   "cell_type": "code",
   "execution_count": 6,
   "metadata": {
    "scrolled": false
   },
   "outputs": [
    {
     "data": {
      "text/plain": [
       "Index(['Item_Identifier', 'Item_Weight', 'Item_Fat_Content', 'Item_Visibility',\n",
       "       'Item_Type', 'Item_MRP', 'Outlet_Identifier',\n",
       "       'Outlet_Establishment_Year', 'Outlet_Size', 'Outlet_Location_Type',\n",
       "       'Outlet_Type', 'Item_Outlet_Sales'],\n",
       "      dtype='object')"
      ]
     },
     "execution_count": 6,
     "metadata": {},
     "output_type": "execute_result"
    }
   ],
   "source": [
    "data.columns"
   ]
  },
  {
   "cell_type": "code",
   "execution_count": 7,
   "metadata": {
    "scrolled": true
   },
   "outputs": [
    {
     "data": {
      "text/plain": [
       "Item_Identifier              1559\n",
       "Item_Weight                   415\n",
       "Item_Fat_Content                5\n",
       "Item_Visibility              7880\n",
       "Item_Type                      16\n",
       "Item_MRP                     5938\n",
       "Outlet_Identifier              10\n",
       "Outlet_Establishment_Year       9\n",
       "Outlet_Size                     3\n",
       "Outlet_Location_Type            3\n",
       "Outlet_Type                     4\n",
       "Item_Outlet_Sales            3493\n",
       "dtype: int64"
      ]
     },
     "execution_count": 7,
     "metadata": {},
     "output_type": "execute_result"
    }
   ],
   "source": [
    "# finding the no.of unique elements in each column\n",
    "data.nunique()"
   ]
  },
  {
   "cell_type": "code",
   "execution_count": 8,
   "metadata": {
    "scrolled": true
   },
   "outputs": [
    {
     "data": {
      "text/plain": [
       "Item_Identifier                 0\n",
       "Item_Weight                  1463\n",
       "Item_Fat_Content                0\n",
       "Item_Visibility                 0\n",
       "Item_Type                       0\n",
       "Item_MRP                        0\n",
       "Outlet_Identifier               0\n",
       "Outlet_Establishment_Year       0\n",
       "Outlet_Size                  2410\n",
       "Outlet_Location_Type            0\n",
       "Outlet_Type                     0\n",
       "Item_Outlet_Sales               0\n",
       "dtype: int64"
      ]
     },
     "execution_count": 8,
     "metadata": {},
     "output_type": "execute_result"
    }
   ],
   "source": [
    "#checking for null values\n",
    "data.isna().sum()"
   ]
  },
  {
   "cell_type": "code",
   "execution_count": 9,
   "metadata": {},
   "outputs": [
    {
     "data": {
      "text/plain": [
       "<AxesSubplot:>"
      ]
     },
     "execution_count": 9,
     "metadata": {},
     "output_type": "execute_result"
    },
    {
     "data": {
      "image/png": "[encoded data removed]",
      "text/plain": [
       "<Figure size 864x432 with 1 Axes>"
      ]
     },
     "metadata": {
      "needs_background": "light"
     },
     "output_type": "display_data"
    }
   ],
   "source": [
    "#Histogram of item weight\n",
    "data['Item_Weight'].hist(figsize=(12,6))"
   ]
  },
  {
   "cell_type": "code",
   "execution_count": 10,
   "metadata": {},
   "outputs": [],
   "source": [
    "# filling the missing values\n",
    "data['Item_Weight']=data['Item_Weight'].fillna(data['Item_Weight'].mean())\n",
    "data['Outlet_Size']=data['Outlet_Size'].fillna(data['Outlet_Size'].mode()[0])"
   ]
  },
  {
   "cell_type": "code",
   "execution_count": 11,
   "metadata": {},
   "outputs": [
    {
     "data": {
      "text/plain": [
       "Item_Identifier              0\n",
       "Item_Weight                  0\n",
       "Item_Fat_Content             0\n",
       "Item_Visibility              0\n",
       "Item_Type                    0\n",
       "Item_MRP                     0\n",
       "Outlet_Identifier            0\n",
       "Outlet_Establishment_Year    0\n",
       "Outlet_Size                  0\n",
       "Outlet_Location_Type         0\n",
       "Outlet_Type                  0\n",
       "Item_Outlet_Sales            0\n",
       "dtype: int64"
      ]
     },
     "execution_count": 11,
     "metadata": {},
     "output_type": "execute_result"
    }
   ],
   "source": [
    "data.isna().sum()"
   ]
  },
  {
   "cell_type": "code",
   "execution_count": 12,
   "metadata": {},
   "outputs": [
    {
     "data": {
      "text/html": [
       "<div>\n",
       "<style scoped>\n",
       "    .dataframe tbody tr th:only-of-type {\n",
       "        vertical-align: middle;\n",
       "    }\n",
       "\n",
       "    .dataframe tbody tr th {\n",
       "        vertical-align: top;\n",
       "    }\n",
       "\n",
       "    .dataframe thead th {\n",
       "        text-align: right;\n",
       "    }\n",
       "</style>\n",
       "<table border=\"1\" class=\"dataframe\">\n",
       "  <thead>\n",
       "    <tr style=\"text-align: right;\">\n",
       "      <th></th>\n",
       "      <th>Item_Weight</th>\n",
       "      <th>Item_Visibility</th>\n",
       "      <th>Item_MRP</th>\n",
       "      <th>Item_Outlet_Sales</th>\n",
       "    </tr>\n",
       "  </thead>\n",
       "  <tbody>\n",
       "    <tr>\n",
       "      <th>count</th>\n",
       "      <td>8523.000000</td>\n",
       "      <td>8523.000000</td>\n",
       "      <td>8523.000000</td>\n",
       "      <td>8523.000000</td>\n",
       "    </tr>\n",
       "    <tr>\n",
       "      <th>mean</th>\n",
       "      <td>12.857645</td>\n",
       "      <td>0.066132</td>\n",
       "      <td>140.992782</td>\n",
       "      <td>2181.288914</td>\n",
       "    </tr>\n",
       "    <tr>\n",
       "      <th>std</th>\n",
       "      <td>4.226124</td>\n",
       "      <td>0.051598</td>\n",
       "      <td>62.275067</td>\n",
       "      <td>1706.499616</td>\n",
       "    </tr>\n",
       "    <tr>\n",
       "      <th>min</th>\n",
       "      <td>4.555000</td>\n",
       "      <td>0.000000</td>\n",
       "      <td>31.290000</td>\n",
       "      <td>33.290000</td>\n",
       "    </tr>\n",
       "    <tr>\n",
       "      <th>25%</th>\n",
       "      <td>9.310000</td>\n",
       "      <td>0.026989</td>\n",
       "      <td>93.826500</td>\n",
       "      <td>834.247400</td>\n",
       "    </tr>\n",
       "    <tr>\n",
       "      <th>50%</th>\n",
       "      <td>12.857645</td>\n",
       "      <td>0.053931</td>\n",
       "      <td>143.012800</td>\n",
       "      <td>1794.331000</td>\n",
       "    </tr>\n",
       "    <tr>\n",
       "      <th>75%</th>\n",
       "      <td>16.000000</td>\n",
       "      <td>0.094585</td>\n",
       "      <td>185.643700</td>\n",
       "      <td>3101.296400</td>\n",
       "    </tr>\n",
       "    <tr>\n",
       "      <th>max</th>\n",
       "      <td>21.350000</td>\n",
       "      <td>0.328391</td>\n",
       "      <td>266.888400</td>\n",
       "      <td>13086.964800</td>\n",
       "    </tr>\n",
       "  </tbody>\n",
       "</table>\n",
       "</div>"
      ],
      "text/plain": [
       "       Item_Weight  Item_Visibility     Item_MRP  Item_Outlet_Sales\n",
       "count  8523.000000      8523.000000  8523.000000        8523.000000\n",
       "mean     12.857645         0.066132   140.992782        2181.288914\n",
       "std       4.226124         0.051598    62.275067        1706.499616\n",
       "min       4.555000         0.000000    31.290000          33.290000\n",
       "25%       9.310000         0.026989    93.826500         834.247400\n",
       "50%      12.857645         0.053931   143.012800        1794.331000\n",
       "75%      16.000000         0.094585   185.643700        3101.296400\n",
       "max      21.350000         0.328391   266.888400       13086.964800"
      ]
     },
     "execution_count": 12,
     "metadata": {},
     "output_type": "execute_result"
    }
   ],
   "source": [
    "data.describe()"
   ]
  },
  {
   "cell_type": "code",
   "execution_count": 13,
   "metadata": {},
   "outputs": [],
   "source": [
    "# Boxplot of numerical columns"
   ]
  },
  {
   "cell_type": "code",
   "execution_count": 14,
   "metadata": {
    "scrolled": false
   },
   "outputs": [
    {
     "data": {
      "image/png": "[encoded data removed]",
      "text/plain": [
       "<Figure size 432x288 with 1 Axes>"
      ]
     },
     "metadata": {
      "needs_background": "light"
     },
     "output_type": "display_data"
    }
   ],
   "source": [
    "plt.boxplot(data['Item_MRP'])\n",
    "plt.show()"
   ]
  },
  {
   "cell_type": "code",
   "execution_count": 15,
   "metadata": {},
   "outputs": [
    {
     "data": {
      "image/png": "[encoded data removed]",
      "text/plain": [
       "<Figure size 432x288 with 1 Axes>"
      ]
     },
     "metadata": {
      "needs_background": "light"
     },
     "output_type": "display_data"
    }
   ],
   "source": [
    "plt.boxplot(data['Item_Weight'])\n",
    "plt.show()"
   ]
  },
  {
   "cell_type": "code",
   "execution_count": 16,
   "metadata": {},
   "outputs": [
    {
     "data": {
      "image/png": "[encoded data removed]",
      "text/plain": [
       "<Figure size 432x288 with 1 Axes>"
      ]
     },
     "metadata": {
      "needs_background": "light"
     },
     "output_type": "display_data"
    }
   ],
   "source": [
    "plt.boxplot(data['Item_Visibility'])\n",
    "plt.show()"
   ]
  },
  {
   "cell_type": "code",
   "execution_count": null,
   "metadata": {},
   "outputs": [],
   "source": []
  },
  {
   "cell_type": "code",
   "execution_count": 17,
   "metadata": {},
   "outputs": [],
   "source": [
    "# scaling the numerical features\n",
    "from sklearn.preprocessing import StandardScaler\n",
    "sc=StandardScaler()\n",
    "data.loc[:,['Item_Weight','Item_Visibility','Item_MRP']]=sc.fit_transform(data[['Item_Weight','Item_Visibility','Item_MRP']])"
   ]
  },
  {
   "cell_type": "code",
   "execution_count": 18,
   "metadata": {},
   "outputs": [
    {
     "data": {
      "text/plain": [
       "Index(['Item_Identifier', 'Item_Weight', 'Item_Fat_Content', 'Item_Visibility',\n",
       "       'Item_Type', 'Item_MRP', 'Outlet_Identifier',\n",
       "       'Outlet_Establishment_Year', 'Outlet_Size', 'Outlet_Location_Type',\n",
       "       'Outlet_Type', 'Item_Outlet_Sales'],\n",
       "      dtype='object')"
      ]
     },
     "execution_count": 18,
     "metadata": {},
     "output_type": "execute_result"
    }
   ],
   "source": [
    "data.columns"
   ]
  },
  {
   "cell_type": "code",
   "execution_count": 19,
   "metadata": {},
   "outputs": [
    {
     "data": {
      "text/plain": [
       "Low Fat    5089\n",
       "Regular    2889\n",
       "LF          316\n",
       "reg         117\n",
       "low fat     112\n",
       "Name: Item_Fat_Content, dtype: int64"
      ]
     },
     "execution_count": 19,
     "metadata": {},
     "output_type": "execute_result"
    }
   ],
   "source": [
    "data['Item_Fat_Content'].value_counts()"
   ]
  },
  {
   "cell_type": "code",
   "execution_count": 20,
   "metadata": {},
   "outputs": [],
   "source": [
    "data['Item_Fat_Content'].replace('LF','Low Fat',inplace=True)\n",
    "data['Item_Fat_Content'].replace('low fat','Low Fat',inplace=True)\n",
    "data['Item_Fat_Content'].replace('reg','Regular',inplace=True)"
   ]
  },
  {
   "cell_type": "code",
   "execution_count": 21,
   "metadata": {},
   "outputs": [
    {
     "data": {
      "text/plain": [
       "Low Fat    5517\n",
       "Regular    3006\n",
       "Name: Item_Fat_Content, dtype: int64"
      ]
     },
     "execution_count": 21,
     "metadata": {},
     "output_type": "execute_result"
    }
   ],
   "source": [
    "data['Item_Fat_Content'].value_counts()"
   ]
  },
  {
   "cell_type": "code",
   "execution_count": 22,
   "metadata": {
    "scrolled": false
   },
   "outputs": [
    {
     "data": {
      "text/plain": [
       "Fruits and Vegetables    1232\n",
       "Snack Foods              1200\n",
       "Household                 910\n",
       "Frozen Foods              856\n",
       "Dairy                     682\n",
       "Canned                    649\n",
       "Baking Goods              648\n",
       "Health and Hygiene        520\n",
       "Soft Drinks               445\n",
       "Meat                      425\n",
       "Breads                    251\n",
       "Hard Drinks               214\n",
       "Others                    169\n",
       "Starchy Foods             148\n",
       "Breakfast                 110\n",
       "Seafood                    64\n",
       "Name: Item_Type, dtype: int64"
      ]
     },
     "execution_count": 22,
     "metadata": {},
     "output_type": "execute_result"
    }
   ],
   "source": [
    "data['Item_Type'].value_counts()"
   ]
  },
  {
   "cell_type": "code",
   "execution_count": 23,
   "metadata": {},
   "outputs": [
    {
     "data": {
      "text/plain": [
       "Supermarket Type1    5577\n",
       "Grocery Store        1083\n",
       "Supermarket Type3     935\n",
       "Supermarket Type2     928\n",
       "Name: Outlet_Type, dtype: int64"
      ]
     },
     "execution_count": 23,
     "metadata": {},
     "output_type": "execute_result"
    }
   ],
   "source": [
    "data['Outlet_Type'].value_counts()"
   ]
  },
  {
   "cell_type": "code",
   "execution_count": 24,
   "metadata": {},
   "outputs": [
    {
     "data": {
      "text/plain": [
       "Tier 3    3350\n",
       "Tier 2    2785\n",
       "Tier 1    2388\n",
       "Name: Outlet_Location_Type, dtype: int64"
      ]
     },
     "execution_count": 24,
     "metadata": {},
     "output_type": "execute_result"
    }
   ],
   "source": [
    "data['Outlet_Location_Type'].value_counts()"
   ]
  },
  {
   "cell_type": "code",
   "execution_count": 25,
   "metadata": {},
   "outputs": [],
   "source": [
    "# label encoding the categorical features\n",
    "from sklearn.preprocessing import LabelEncoder\n",
    "le=LabelEncoder()\n",
    "data['Item_Identifier']=le.fit_transform(data['Item_Identifier'])\n",
    "data['Outlet_Size']=le.fit_transform(data['Outlet_Size'])\n",
    "data['Item_Fat_Content']=le.fit_transform(data['Item_Fat_Content'])\n",
    "data['Outlet_Establishment_Year']=le.fit_transform(data['Outlet_Establishment_Year'])\n",
    "data['Outlet_Identifier']=le.fit_transform(data['Outlet_Identifier'])"
   ]
  },
  {
   "cell_type": "code",
   "execution_count": 26,
   "metadata": {
    "scrolled": true
   },
   "outputs": [],
   "source": [
    "# one hot encoding the categorical features\n",
    "data=pd.get_dummies(data,columns=['Outlet_Location_Type','Item_Type','Outlet_Type'])\n"
   ]
  },
  {
   "cell_type": "code",
   "execution_count": 27,
   "metadata": {},
   "outputs": [
    {
     "data": {
      "text/html": [
       "<div>\n",
       "<style scoped>\n",
       "    .dataframe tbody tr th:only-of-type {\n",
       "        vertical-align: middle;\n",
       "    }\n",
       "\n",
       "    .dataframe tbody tr th {\n",
       "        vertical-align: top;\n",
       "    }\n",
       "\n",
       "    .dataframe thead th {\n",
       "        text-align: right;\n",
       "    }\n",
       "</style>\n",
       "<table border=\"1\" class=\"dataframe\">\n",
       "  <thead>\n",
       "    <tr style=\"text-align: right;\">\n",
       "      <th></th>\n",
       "      <th>Item_Identifier</th>\n",
       "      <th>Item_Weight</th>\n",
       "      <th>Item_Fat_Content</th>\n",
       "      <th>Item_Visibility</th>\n",
       "      <th>Item_MRP</th>\n",
       "      <th>Outlet_Identifier</th>\n",
       "      <th>Outlet_Establishment_Year</th>\n",
       "      <th>Outlet_Size</th>\n",
       "      <th>Item_Outlet_Sales</th>\n",
       "      <th>Outlet_Location_Type_Tier 1</th>\n",
       "      <th>...</th>\n",
       "      <th>Item_Type_Meat</th>\n",
       "      <th>Item_Type_Others</th>\n",
       "      <th>Item_Type_Seafood</th>\n",
       "      <th>Item_Type_Snack Foods</th>\n",
       "      <th>Item_Type_Soft Drinks</th>\n",
       "      <th>Item_Type_Starchy Foods</th>\n",
       "      <th>Outlet_Type_Grocery Store</th>\n",
       "      <th>Outlet_Type_Supermarket Type1</th>\n",
       "      <th>Outlet_Type_Supermarket Type2</th>\n",
       "      <th>Outlet_Type_Supermarket Type3</th>\n",
       "    </tr>\n",
       "  </thead>\n",
       "  <tbody>\n",
       "    <tr>\n",
       "      <th>0</th>\n",
       "      <td>156</td>\n",
       "      <td>-8.418717e-01</td>\n",
       "      <td>0</td>\n",
       "      <td>-0.970732</td>\n",
       "      <td>1.747454</td>\n",
       "      <td>9</td>\n",
       "      <td>4</td>\n",
       "      <td>1</td>\n",
       "      <td>3735.1380</td>\n",
       "      <td>1</td>\n",
       "      <td>...</td>\n",
       "      <td>0</td>\n",
       "      <td>0</td>\n",
       "      <td>0</td>\n",
       "      <td>0</td>\n",
       "      <td>0</td>\n",
       "      <td>0</td>\n",
       "      <td>0</td>\n",
       "      <td>1</td>\n",
       "      <td>0</td>\n",
       "      <td>0</td>\n",
       "    </tr>\n",
       "    <tr>\n",
       "      <th>1</th>\n",
       "      <td>8</td>\n",
       "      <td>-1.641706e+00</td>\n",
       "      <td>1</td>\n",
       "      <td>-0.908111</td>\n",
       "      <td>-1.489023</td>\n",
       "      <td>3</td>\n",
       "      <td>8</td>\n",
       "      <td>1</td>\n",
       "      <td>443.4228</td>\n",
       "      <td>0</td>\n",
       "      <td>...</td>\n",
       "      <td>0</td>\n",
       "      <td>0</td>\n",
       "      <td>0</td>\n",
       "      <td>0</td>\n",
       "      <td>1</td>\n",
       "      <td>0</td>\n",
       "      <td>0</td>\n",
       "      <td>0</td>\n",
       "      <td>1</td>\n",
       "      <td>0</td>\n",
       "    </tr>\n",
       "    <tr>\n",
       "      <th>2</th>\n",
       "      <td>662</td>\n",
       "      <td>1.098554e+00</td>\n",
       "      <td>0</td>\n",
       "      <td>-0.956917</td>\n",
       "      <td>0.010040</td>\n",
       "      <td>9</td>\n",
       "      <td>4</td>\n",
       "      <td>1</td>\n",
       "      <td>2097.2700</td>\n",
       "      <td>1</td>\n",
       "      <td>...</td>\n",
       "      <td>1</td>\n",
       "      <td>0</td>\n",
       "      <td>0</td>\n",
       "      <td>0</td>\n",
       "      <td>0</td>\n",
       "      <td>0</td>\n",
       "      <td>0</td>\n",
       "      <td>1</td>\n",
       "      <td>0</td>\n",
       "      <td>0</td>\n",
       "    </tr>\n",
       "    <tr>\n",
       "      <th>3</th>\n",
       "      <td>1121</td>\n",
       "      <td>1.500838e+00</td>\n",
       "      <td>1</td>\n",
       "      <td>-1.281758</td>\n",
       "      <td>0.660050</td>\n",
       "      <td>0</td>\n",
       "      <td>3</td>\n",
       "      <td>1</td>\n",
       "      <td>732.3800</td>\n",
       "      <td>0</td>\n",
       "      <td>...</td>\n",
       "      <td>0</td>\n",
       "      <td>0</td>\n",
       "      <td>0</td>\n",
       "      <td>0</td>\n",
       "      <td>0</td>\n",
       "      <td>0</td>\n",
       "      <td>1</td>\n",
       "      <td>0</td>\n",
       "      <td>0</td>\n",
       "      <td>0</td>\n",
       "    </tr>\n",
       "    <tr>\n",
       "      <th>4</th>\n",
       "      <td>1297</td>\n",
       "      <td>-9.294275e-01</td>\n",
       "      <td>0</td>\n",
       "      <td>-1.281758</td>\n",
       "      <td>-1.399220</td>\n",
       "      <td>1</td>\n",
       "      <td>1</td>\n",
       "      <td>0</td>\n",
       "      <td>994.7052</td>\n",
       "      <td>0</td>\n",
       "      <td>...</td>\n",
       "      <td>0</td>\n",
       "      <td>0</td>\n",
       "      <td>0</td>\n",
       "      <td>0</td>\n",
       "      <td>0</td>\n",
       "      <td>0</td>\n",
       "      <td>0</td>\n",
       "      <td>1</td>\n",
       "      <td>0</td>\n",
       "      <td>0</td>\n",
       "    </tr>\n",
       "    <tr>\n",
       "      <th>5</th>\n",
       "      <td>758</td>\n",
       "      <td>-5.827538e-01</td>\n",
       "      <td>1</td>\n",
       "      <td>-1.281758</td>\n",
       "      <td>-1.438734</td>\n",
       "      <td>3</td>\n",
       "      <td>8</td>\n",
       "      <td>1</td>\n",
       "      <td>556.6088</td>\n",
       "      <td>0</td>\n",
       "      <td>...</td>\n",
       "      <td>0</td>\n",
       "      <td>0</td>\n",
       "      <td>0</td>\n",
       "      <td>0</td>\n",
       "      <td>0</td>\n",
       "      <td>0</td>\n",
       "      <td>0</td>\n",
       "      <td>0</td>\n",
       "      <td>1</td>\n",
       "      <td>0</td>\n",
       "    </tr>\n",
       "    <tr>\n",
       "      <th>6</th>\n",
       "      <td>696</td>\n",
       "      <td>1.875007e-01</td>\n",
       "      <td>1</td>\n",
       "      <td>-1.034813</td>\n",
       "      <td>-1.338238</td>\n",
       "      <td>1</td>\n",
       "      <td>1</td>\n",
       "      <td>0</td>\n",
       "      <td>343.5528</td>\n",
       "      <td>0</td>\n",
       "      <td>...</td>\n",
       "      <td>0</td>\n",
       "      <td>0</td>\n",
       "      <td>0</td>\n",
       "      <td>1</td>\n",
       "      <td>0</td>\n",
       "      <td>0</td>\n",
       "      <td>0</td>\n",
       "      <td>1</td>\n",
       "      <td>0</td>\n",
       "      <td>0</td>\n",
       "    </tr>\n",
       "    <tr>\n",
       "      <th>7</th>\n",
       "      <td>738</td>\n",
       "      <td>4.035383e-14</td>\n",
       "      <td>0</td>\n",
       "      <td>1.188838</td>\n",
       "      <td>-0.533641</td>\n",
       "      <td>5</td>\n",
       "      <td>0</td>\n",
       "      <td>1</td>\n",
       "      <td>4022.7636</td>\n",
       "      <td>0</td>\n",
       "      <td>...</td>\n",
       "      <td>0</td>\n",
       "      <td>0</td>\n",
       "      <td>0</td>\n",
       "      <td>1</td>\n",
       "      <td>0</td>\n",
       "      <td>0</td>\n",
       "      <td>0</td>\n",
       "      <td>0</td>\n",
       "      <td>0</td>\n",
       "      <td>1</td>\n",
       "    </tr>\n",
       "    <tr>\n",
       "      <th>8</th>\n",
       "      <td>440</td>\n",
       "      <td>7.909259e-01</td>\n",
       "      <td>1</td>\n",
       "      <td>-0.958331</td>\n",
       "      <td>-0.706908</td>\n",
       "      <td>7</td>\n",
       "      <td>5</td>\n",
       "      <td>1</td>\n",
       "      <td>1076.5986</td>\n",
       "      <td>0</td>\n",
       "      <td>...</td>\n",
       "      <td>0</td>\n",
       "      <td>0</td>\n",
       "      <td>0</td>\n",
       "      <td>0</td>\n",
       "      <td>0</td>\n",
       "      <td>0</td>\n",
       "      <td>0</td>\n",
       "      <td>1</td>\n",
       "      <td>0</td>\n",
       "      <td>0</td>\n",
       "    </tr>\n",
       "    <tr>\n",
       "      <th>9</th>\n",
       "      <td>990</td>\n",
       "      <td>1.500838e+00</td>\n",
       "      <td>1</td>\n",
       "      <td>0.548845</td>\n",
       "      <td>0.752008</td>\n",
       "      <td>2</td>\n",
       "      <td>7</td>\n",
       "      <td>1</td>\n",
       "      <td>4710.5350</td>\n",
       "      <td>0</td>\n",
       "      <td>...</td>\n",
       "      <td>0</td>\n",
       "      <td>0</td>\n",
       "      <td>0</td>\n",
       "      <td>0</td>\n",
       "      <td>0</td>\n",
       "      <td>0</td>\n",
       "      <td>0</td>\n",
       "      <td>1</td>\n",
       "      <td>0</td>\n",
       "      <td>0</td>\n",
       "    </tr>\n",
       "  </tbody>\n",
       "</table>\n",
       "<p>10 rows × 32 columns</p>\n",
       "</div>"
      ],
      "text/plain": [
       "   Item_Identifier   Item_Weight  Item_Fat_Content  Item_Visibility  Item_MRP  \\\n",
       "0              156 -8.418717e-01                 0        -0.970732  1.747454   \n",
       "1                8 -1.641706e+00                 1        -0.908111 -1.489023   \n",
       "2              662  1.098554e+00                 0        -0.956917  0.010040   \n",
       "3             1121  1.500838e+00                 1        -1.281758  0.660050   \n",
       "4             1297 -9.294275e-01                 0        -1.281758 -1.399220   \n",
       "5              758 -5.827538e-01                 1        -1.281758 -1.438734   \n",
       "6              696  1.875007e-01                 1        -1.034813 -1.338238   \n",
       "7              738  4.035383e-14                 0         1.188838 -0.533641   \n",
       "8              440  7.909259e-01                 1        -0.958331 -0.706908   \n",
       "9              990  1.500838e+00                 1         0.548845  0.752008   \n",
       "\n",
       "   Outlet_Identifier  Outlet_Establishment_Year  Outlet_Size  \\\n",
       "0                  9                          4            1   \n",
       "1                  3                          8            1   \n",
       "2                  9                          4            1   \n",
       "3                  0                          3            1   \n",
       "4                  1                          1            0   \n",
       "5                  3                          8            1   \n",
       "6                  1                          1            0   \n",
       "7                  5                          0            1   \n",
       "8                  7                          5            1   \n",
       "9                  2                          7            1   \n",
       "\n",
       "   Item_Outlet_Sales  Outlet_Location_Type_Tier 1  ...  Item_Type_Meat  \\\n",
       "0          3735.1380                            1  ...               0   \n",
       "1           443.4228                            0  ...               0   \n",
       "2          2097.2700                            1  ...               1   \n",
       "3           732.3800                            0  ...               0   \n",
       "4           994.7052                            0  ...               0   \n",
       "5           556.6088                            0  ...               0   \n",
       "6           343.5528                            0  ...               0   \n",
       "7          4022.7636                            0  ...               0   \n",
       "8          1076.5986                            0  ...               0   \n",
       "9          4710.5350                            0  ...               0   \n",
       "\n",
       "   Item_Type_Others  Item_Type_Seafood  Item_Type_Snack Foods  \\\n",
       "0                 0                  0                      0   \n",
       "1                 0                  0                      0   \n",
       "2                 0                  0                      0   \n",
       "3                 0                  0                      0   \n",
       "4                 0                  0                      0   \n",
       "5                 0                  0                      0   \n",
       "6                 0                  0                      1   \n",
       "7                 0                  0                      1   \n",
       "8                 0                  0                      0   \n",
       "9                 0                  0                      0   \n",
       "\n",
       "   Item_Type_Soft Drinks  Item_Type_Starchy Foods  Outlet_Type_Grocery Store  \\\n",
       "0                      0                        0                          0   \n",
       "1                      1                        0                          0   \n",
       "2                      0                        0                          0   \n",
       "3                      0                        0                          1   \n",
       "4                      0                        0                          0   \n",
       "5                      0                        0                          0   \n",
       "6                      0                        0                          0   \n",
       "7                      0                        0                          0   \n",
       "8                      0                        0                          0   \n",
       "9                      0                        0                          0   \n",
       "\n",
       "   Outlet_Type_Supermarket Type1  Outlet_Type_Supermarket Type2  \\\n",
       "0                              1                              0   \n",
       "1                              0                              1   \n",
       "2                              1                              0   \n",
       "3                              0                              0   \n",
       "4                              1                              0   \n",
       "5                              0                              1   \n",
       "6                              1                              0   \n",
       "7                              0                              0   \n",
       "8                              1                              0   \n",
       "9                              1                              0   \n",
       "\n",
       "   Outlet_Type_Supermarket Type3  \n",
       "0                              0  \n",
       "1                              0  \n",
       "2                              0  \n",
       "3                              0  \n",
       "4                              0  \n",
       "5                              0  \n",
       "6                              0  \n",
       "7                              1  \n",
       "8                              0  \n",
       "9                              0  \n",
       "\n",
       "[10 rows x 32 columns]"
      ]
     },
     "execution_count": 27,
     "metadata": {},
     "output_type": "execute_result"
    }
   ],
   "source": [
    "data.head(10)"
   ]
  },
  {
   "cell_type": "code",
   "execution_count": 28,
   "metadata": {},
   "outputs": [
    {
     "data": {
      "text/plain": [
       "Item_Identifier                      int32\n",
       "Item_Weight                        float64\n",
       "Item_Fat_Content                     int32\n",
       "Item_Visibility                    float64\n",
       "Item_MRP                           float64\n",
       "Outlet_Identifier                    int32\n",
       "Outlet_Establishment_Year            int32\n",
       "Outlet_Size                          int32\n",
       "Item_Outlet_Sales                  float64\n",
       "Outlet_Location_Type_Tier 1          uint8\n",
       "Outlet_Location_Type_Tier 2          uint8\n",
       "Outlet_Location_Type_Tier 3          uint8\n",
       "Item_Type_Baking Goods               uint8\n",
       "Item_Type_Breads                     uint8\n",
       "Item_Type_Breakfast                  uint8\n",
       "Item_Type_Canned                     uint8\n",
       "Item_Type_Dairy                      uint8\n",
       "Item_Type_Frozen Foods               uint8\n",
       "Item_Type_Fruits and Vegetables      uint8\n",
       "Item_Type_Hard Drinks                uint8\n",
       "Item_Type_Health and Hygiene         uint8\n",
       "Item_Type_Household                  uint8\n",
       "Item_Type_Meat                       uint8\n",
       "Item_Type_Others                     uint8\n",
       "Item_Type_Seafood                    uint8\n",
       "Item_Type_Snack Foods                uint8\n",
       "Item_Type_Soft Drinks                uint8\n",
       "Item_Type_Starchy Foods              uint8\n",
       "Outlet_Type_Grocery Store            uint8\n",
       "Outlet_Type_Supermarket Type1        uint8\n",
       "Outlet_Type_Supermarket Type2        uint8\n",
       "Outlet_Type_Supermarket Type3        uint8\n",
       "dtype: object"
      ]
     },
     "execution_count": 28,
     "metadata": {},
     "output_type": "execute_result"
    }
   ],
   "source": [
    "data.dtypes"
   ]
  },
  {
   "cell_type": "code",
   "execution_count": 29,
   "metadata": {},
   "outputs": [],
   "source": [
    "# selecting the independent features and the target variable\n",
    "x=data.drop(['Item_Outlet_Sales'],axis=1)\n",
    "y=data['Item_Outlet_Sales']"
   ]
  },
  {
   "cell_type": "code",
   "execution_count": 30,
   "metadata": {},
   "outputs": [],
   "source": [
    "from sklearn.model_selection import train_test_split"
   ]
  },
  {
   "cell_type": "code",
   "execution_count": 31,
   "metadata": {},
   "outputs": [],
   "source": [
    "x_train,x_test,y_train,y_test=train_test_split(x,y,test_size=0.3,random_state=242)"
   ]
  },
  {
   "cell_type": "markdown",
   "metadata": {},
   "source": [
    "### Linear Regression"
   ]
  },
  {
   "cell_type": "code",
   "execution_count": 32,
   "metadata": {},
   "outputs": [],
   "source": [
    "from sklearn.linear_model import LinearRegression"
   ]
  },
  {
   "cell_type": "code",
   "execution_count": 33,
   "metadata": {},
   "outputs": [],
   "source": [
    "lr=LinearRegression()\n",
    "model=lr.fit(x_train,y_train)\n",
    "y_pred=model.predict(x_test)"
   ]
  },
  {
   "cell_type": "code",
   "execution_count": 34,
   "metadata": {},
   "outputs": [],
   "source": [
    "from sklearn.metrics import r2_score,mean_squared_error"
   ]
  },
  {
   "cell_type": "code",
   "execution_count": 35,
   "metadata": {},
   "outputs": [
    {
     "name": "stdout",
     "output_type": "stream",
     "text": [
      "R squared value is: 0.5745494121334085\n"
     ]
    }
   ],
   "source": [
    "print('R squared value is:',r2_score(y_test,y_pred))"
   ]
  },
  {
   "cell_type": "code",
   "execution_count": 37,
   "metadata": {},
   "outputs": [
    {
     "name": "stdout",
     "output_type": "stream",
     "text": [
      "Mean squared error is : 1214670.147512787\n"
     ]
    }
   ],
   "source": [
    "print('Mean squared error is :',mean_squared_error(y_test,y_pred))"
   ]
  },
  {
   "cell_type": "markdown",
   "metadata": {},
   "source": [
    "### Lasso Regression"
   ]
  },
  {
   "cell_type": "code",
   "execution_count": 38,
   "metadata": {},
   "outputs": [],
   "source": [
    "from sklearn.linear_model import Lasso\n",
    "from sklearn.model_selection import GridSearchCV\n",
    "lasso=Lasso()\n",
    "parameters={'alpha':[1e-15,1e-10,1e-8,1e-3,1e-2,1,5,10,20,30,35,40,45,50,55,100]}\n",
    "lasso_r=GridSearchCV(lasso,parameters,cv=5)"
   ]
  },
  {
   "cell_type": "code",
   "execution_count": 39,
   "metadata": {},
   "outputs": [
    {
     "name": "stderr",
     "output_type": "stream",
     "text": [
      "C:\\Users\\Anakha\\anaconda3\\lib\\site-packages\\sklearn\\linear_model\\_coordinate_descent.py:529: ConvergenceWarning: Objective did not converge. You might want to increase the number of iterations. Duality gap: 3059919769.6005507, tolerance: 1398885.370513838\n",
      "  model = cd_fast.enet_coordinate_descent(\n",
      "C:\\Users\\Anakha\\anaconda3\\lib\\site-packages\\sklearn\\linear_model\\_coordinate_descent.py:529: ConvergenceWarning: Objective did not converge. You might want to increase the number of iterations. Duality gap: 3073526108.121773, tolerance: 1397976.0073313953\n",
      "  model = cd_fast.enet_coordinate_descent(\n",
      "C:\\Users\\Anakha\\anaconda3\\lib\\site-packages\\sklearn\\linear_model\\_coordinate_descent.py:529: ConvergenceWarning: Objective did not converge. You might want to increase the number of iterations. Duality gap: 3080465845.6828604, tolerance: 1397422.0227293123\n",
      "  model = cd_fast.enet_coordinate_descent(\n",
      "C:\\Users\\Anakha\\anaconda3\\lib\\site-packages\\sklearn\\linear_model\\_coordinate_descent.py:529: ConvergenceWarning: Objective did not converge. You might want to increase the number of iterations. Duality gap: 3168368529.2561326, tolerance: 1427878.6400582707\n",
      "  model = cd_fast.enet_coordinate_descent(\n",
      "C:\\Users\\Anakha\\anaconda3\\lib\\site-packages\\sklearn\\linear_model\\_coordinate_descent.py:529: ConvergenceWarning: Objective did not converge. You might want to increase the number of iterations. Duality gap: 3103403829.96158, tolerance: 1383239.0632645618\n",
      "  model = cd_fast.enet_coordinate_descent(\n",
      "C:\\Users\\Anakha\\anaconda3\\lib\\site-packages\\sklearn\\linear_model\\_coordinate_descent.py:529: ConvergenceWarning: Objective did not converge. You might want to increase the number of iterations. Duality gap: 454480774.6896391, tolerance: 1398885.370513838\n",
      "  model = cd_fast.enet_coordinate_descent(\n",
      "C:\\Users\\Anakha\\anaconda3\\lib\\site-packages\\sklearn\\linear_model\\_coordinate_descent.py:529: ConvergenceWarning: Objective did not converge. You might want to increase the number of iterations. Duality gap: 621104978.5644693, tolerance: 1397976.0073313953\n",
      "  model = cd_fast.enet_coordinate_descent(\n",
      "C:\\Users\\Anakha\\anaconda3\\lib\\site-packages\\sklearn\\linear_model\\_coordinate_descent.py:529: ConvergenceWarning: Objective did not converge. You might want to increase the number of iterations. Duality gap: 185458597.36379147, tolerance: 1397422.0227293123\n",
      "  model = cd_fast.enet_coordinate_descent(\n",
      "C:\\Users\\Anakha\\anaconda3\\lib\\site-packages\\sklearn\\linear_model\\_coordinate_descent.py:529: ConvergenceWarning: Objective did not converge. You might want to increase the number of iterations. Duality gap: 174107390.77271938, tolerance: 1427878.6400582707\n",
      "  model = cd_fast.enet_coordinate_descent(\n",
      "C:\\Users\\Anakha\\anaconda3\\lib\\site-packages\\sklearn\\linear_model\\_coordinate_descent.py:529: ConvergenceWarning: Objective did not converge. You might want to increase the number of iterations. Duality gap: 240183401.65739155, tolerance: 1383239.0632645618\n",
      "  model = cd_fast.enet_coordinate_descent(\n",
      "C:\\Users\\Anakha\\anaconda3\\lib\\site-packages\\sklearn\\linear_model\\_coordinate_descent.py:529: ConvergenceWarning: Objective did not converge. You might want to increase the number of iterations. Duality gap: 454456110.87431383, tolerance: 1398885.370513838\n",
      "  model = cd_fast.enet_coordinate_descent(\n",
      "C:\\Users\\Anakha\\anaconda3\\lib\\site-packages\\sklearn\\linear_model\\_coordinate_descent.py:529: ConvergenceWarning: Objective did not converge. You might want to increase the number of iterations. Duality gap: 621133833.4119782, tolerance: 1397976.0073313953\n",
      "  model = cd_fast.enet_coordinate_descent(\n",
      "C:\\Users\\Anakha\\anaconda3\\lib\\site-packages\\sklearn\\linear_model\\_coordinate_descent.py:529: ConvergenceWarning: Objective did not converge. You might want to increase the number of iterations. Duality gap: 185436601.71781063, tolerance: 1397422.0227293123\n",
      "  model = cd_fast.enet_coordinate_descent(\n",
      "C:\\Users\\Anakha\\anaconda3\\lib\\site-packages\\sklearn\\linear_model\\_coordinate_descent.py:529: ConvergenceWarning: Objective did not converge. You might want to increase the number of iterations. Duality gap: 174164288.65311813, tolerance: 1427878.6400582707\n",
      "  model = cd_fast.enet_coordinate_descent(\n",
      "C:\\Users\\Anakha\\anaconda3\\lib\\site-packages\\sklearn\\linear_model\\_coordinate_descent.py:529: ConvergenceWarning: Objective did not converge. You might want to increase the number of iterations. Duality gap: 240223598.74969482, tolerance: 1383239.0632645618\n",
      "  model = cd_fast.enet_coordinate_descent(\n",
      "C:\\Users\\Anakha\\anaconda3\\lib\\site-packages\\sklearn\\linear_model\\_coordinate_descent.py:529: ConvergenceWarning: Objective did not converge. You might want to increase the number of iterations. Duality gap: 239380069.74125004, tolerance: 1398885.370513838\n",
      "  model = cd_fast.enet_coordinate_descent(\n",
      "C:\\Users\\Anakha\\anaconda3\\lib\\site-packages\\sklearn\\linear_model\\_coordinate_descent.py:529: ConvergenceWarning: Objective did not converge. You might want to increase the number of iterations. Duality gap: 140728158.03526974, tolerance: 1397976.0073313953\n",
      "  model = cd_fast.enet_coordinate_descent(\n",
      "C:\\Users\\Anakha\\anaconda3\\lib\\site-packages\\sklearn\\linear_model\\_coordinate_descent.py:529: ConvergenceWarning: Objective did not converge. You might want to increase the number of iterations. Duality gap: 185453155.34369564, tolerance: 1397422.0227293123\n",
      "  model = cd_fast.enet_coordinate_descent(\n",
      "C:\\Users\\Anakha\\anaconda3\\lib\\site-packages\\sklearn\\linear_model\\_coordinate_descent.py:529: ConvergenceWarning: Objective did not converge. You might want to increase the number of iterations. Duality gap: 174180412.97837257, tolerance: 1427878.6400582707\n",
      "  model = cd_fast.enet_coordinate_descent(\n",
      "C:\\Users\\Anakha\\anaconda3\\lib\\site-packages\\sklearn\\linear_model\\_coordinate_descent.py:529: ConvergenceWarning: Objective did not converge. You might want to increase the number of iterations. Duality gap: 240240379.06012154, tolerance: 1383239.0632645618\n",
      "  model = cd_fast.enet_coordinate_descent(\n",
      "C:\\Users\\Anakha\\anaconda3\\lib\\site-packages\\sklearn\\linear_model\\_coordinate_descent.py:529: ConvergenceWarning: Objective did not converge. You might want to increase the number of iterations. Duality gap: 239530373.50271606, tolerance: 1398885.370513838\n",
      "  model = cd_fast.enet_coordinate_descent(\n"
     ]
    },
    {
     "data": {
      "text/plain": [
       "GridSearchCV(cv=5, estimator=Lasso(),\n",
       "             param_grid={'alpha': [1e-15, 1e-10, 1e-08, 0.001, 0.01, 1, 5, 10,\n",
       "                                   20, 30, 35, 40, 45, 50, 55, 100]})"
      ]
     },
     "execution_count": 39,
     "metadata": {},
     "output_type": "execute_result"
    }
   ],
   "source": [
    "lasso_r.fit(x_train,y_train)"
   ]
  },
  {
   "cell_type": "code",
   "execution_count": 40,
   "metadata": {},
   "outputs": [
    {
     "name": "stdout",
     "output_type": "stream",
     "text": [
      "{'alpha': 5}\n"
     ]
    }
   ],
   "source": [
    "print(lasso_r.best_params_)"
   ]
  },
  {
   "cell_type": "code",
   "execution_count": 41,
   "metadata": {},
   "outputs": [],
   "source": [
    "y_pred=lasso_r.predict(x_test)"
   ]
  },
  {
   "cell_type": "code",
   "execution_count": 42,
   "metadata": {},
   "outputs": [
    {
     "name": "stdout",
     "output_type": "stream",
     "text": [
      "R squared value is: 0.5760455064588954\n"
     ]
    }
   ],
   "source": [
    "print('R squared value is:',r2_score(y_test,y_pred))\n"
   ]
  },
  {
   "cell_type": "code",
   "execution_count": 44,
   "metadata": {},
   "outputs": [
    {
     "name": "stdout",
     "output_type": "stream",
     "text": [
      "Mean squared error is : 1210398.7675526727\n"
     ]
    }
   ],
   "source": [
    "print('Mean squared error is :',mean_squared_error(y_test,y_pred))"
   ]
  },
  {
   "cell_type": "markdown",
   "metadata": {},
   "source": [
    "### Random Forest regression"
   ]
  },
  {
   "cell_type": "code",
   "execution_count": 45,
   "metadata": {},
   "outputs": [
    {
     "data": {
      "text/plain": [
       "RandomForestRegressor(n_estimators=200, random_state=42)"
      ]
     },
     "execution_count": 45,
     "metadata": {},
     "output_type": "execute_result"
    }
   ],
   "source": [
    "from sklearn.ensemble import RandomForestRegressor\n",
    "\n",
    "rfr = RandomForestRegressor(n_estimators = 200, random_state = 42)\n",
    "rfr.fit(x_train, y_train)"
   ]
  },
  {
   "cell_type": "code",
   "execution_count": 46,
   "metadata": {},
   "outputs": [],
   "source": [
    "\n",
    "test_predict=rfr.predict(x_test)"
   ]
  },
  {
   "cell_type": "code",
   "execution_count": 47,
   "metadata": {},
   "outputs": [
    {
     "name": "stdout",
     "output_type": "stream",
     "text": [
      "Train data R2 score: 0.9380758778212114\n",
      "Test data R2 score: 0.5758118493762789\n"
     ]
    }
   ],
   "source": [
    "print(\"Test data R2 score:\", r2_score(y_test, test_predict))"
   ]
  },
  {
   "cell_type": "code",
   "execution_count": 48,
   "metadata": {},
   "outputs": [],
   "source": [
    "# Making predictions on the test data"
   ]
  },
  {
   "cell_type": "code",
   "execution_count": 49,
   "metadata": {},
   "outputs": [
    {
     "data": {
      "text/html": [
       "<div>\n",
       "<style scoped>\n",
       "    .dataframe tbody tr th:only-of-type {\n",
       "        vertical-align: middle;\n",
       "    }\n",
       "\n",
       "    .dataframe tbody tr th {\n",
       "        vertical-align: top;\n",
       "    }\n",
       "\n",
       "    .dataframe thead th {\n",
       "        text-align: right;\n",
       "    }\n",
       "</style>\n",
       "<table border=\"1\" class=\"dataframe\">\n",
       "  <thead>\n",
       "    <tr style=\"text-align: right;\">\n",
       "      <th></th>\n",
       "      <th>Item_Identifier</th>\n",
       "      <th>Item_Weight</th>\n",
       "      <th>Item_Fat_Content</th>\n",
       "      <th>Item_Visibility</th>\n",
       "      <th>Item_Type</th>\n",
       "      <th>Item_MRP</th>\n",
       "      <th>Outlet_Identifier</th>\n",
       "      <th>Outlet_Establishment_Year</th>\n",
       "      <th>Outlet_Size</th>\n",
       "      <th>Outlet_Location_Type</th>\n",
       "      <th>Outlet_Type</th>\n",
       "    </tr>\n",
       "  </thead>\n",
       "  <tbody>\n",
       "    <tr>\n",
       "      <th>0</th>\n",
       "      <td>FDW58</td>\n",
       "      <td>20.750</td>\n",
       "      <td>Low Fat</td>\n",
       "      <td>0.007565</td>\n",
       "      <td>Snack Foods</td>\n",
       "      <td>107.8622</td>\n",
       "      <td>OUT049</td>\n",
       "      <td>1999</td>\n",
       "      <td>Medium</td>\n",
       "      <td>Tier 1</td>\n",
       "      <td>Supermarket Type1</td>\n",
       "    </tr>\n",
       "    <tr>\n",
       "      <th>1</th>\n",
       "      <td>FDW14</td>\n",
       "      <td>8.300</td>\n",
       "      <td>reg</td>\n",
       "      <td>0.038428</td>\n",
       "      <td>Dairy</td>\n",
       "      <td>87.3198</td>\n",
       "      <td>OUT017</td>\n",
       "      <td>2007</td>\n",
       "      <td>NaN</td>\n",
       "      <td>Tier 2</td>\n",
       "      <td>Supermarket Type1</td>\n",
       "    </tr>\n",
       "    <tr>\n",
       "      <th>2</th>\n",
       "      <td>NCN55</td>\n",
       "      <td>14.600</td>\n",
       "      <td>Low Fat</td>\n",
       "      <td>0.099575</td>\n",
       "      <td>Others</td>\n",
       "      <td>241.7538</td>\n",
       "      <td>OUT010</td>\n",
       "      <td>1998</td>\n",
       "      <td>NaN</td>\n",
       "      <td>Tier 3</td>\n",
       "      <td>Grocery Store</td>\n",
       "    </tr>\n",
       "    <tr>\n",
       "      <th>3</th>\n",
       "      <td>FDQ58</td>\n",
       "      <td>7.315</td>\n",
       "      <td>Low Fat</td>\n",
       "      <td>0.015388</td>\n",
       "      <td>Snack Foods</td>\n",
       "      <td>155.0340</td>\n",
       "      <td>OUT017</td>\n",
       "      <td>2007</td>\n",
       "      <td>NaN</td>\n",
       "      <td>Tier 2</td>\n",
       "      <td>Supermarket Type1</td>\n",
       "    </tr>\n",
       "    <tr>\n",
       "      <th>4</th>\n",
       "      <td>FDY38</td>\n",
       "      <td>NaN</td>\n",
       "      <td>Regular</td>\n",
       "      <td>0.118599</td>\n",
       "      <td>Dairy</td>\n",
       "      <td>234.2300</td>\n",
       "      <td>OUT027</td>\n",
       "      <td>1985</td>\n",
       "      <td>Medium</td>\n",
       "      <td>Tier 3</td>\n",
       "      <td>Supermarket Type3</td>\n",
       "    </tr>\n",
       "  </tbody>\n",
       "</table>\n",
       "</div>"
      ],
      "text/plain": [
       "  Item_Identifier  Item_Weight Item_Fat_Content  Item_Visibility    Item_Type  \\\n",
       "0           FDW58       20.750          Low Fat         0.007565  Snack Foods   \n",
       "1           FDW14        8.300              reg         0.038428        Dairy   \n",
       "2           NCN55       14.600          Low Fat         0.099575       Others   \n",
       "3           FDQ58        7.315          Low Fat         0.015388  Snack Foods   \n",
       "4           FDY38          NaN          Regular         0.118599        Dairy   \n",
       "\n",
       "   Item_MRP Outlet_Identifier  Outlet_Establishment_Year Outlet_Size  \\\n",
       "0  107.8622            OUT049                       1999      Medium   \n",
       "1   87.3198            OUT017                       2007         NaN   \n",
       "2  241.7538            OUT010                       1998         NaN   \n",
       "3  155.0340            OUT017                       2007         NaN   \n",
       "4  234.2300            OUT027                       1985      Medium   \n",
       "\n",
       "  Outlet_Location_Type        Outlet_Type  \n",
       "0               Tier 1  Supermarket Type1  \n",
       "1               Tier 2  Supermarket Type1  \n",
       "2               Tier 3      Grocery Store  \n",
       "3               Tier 2  Supermarket Type1  \n",
       "4               Tier 3  Supermarket Type3  "
      ]
     },
     "execution_count": 49,
     "metadata": {},
     "output_type": "execute_result"
    }
   ],
   "source": [
    "# importing test data\n",
    "df=pd.read_csv(r\"C:\\Users\\Anakha\\Downloads\\test_AbJTz2l.csv\")\n",
    "df.head()"
   ]
  },
  {
   "cell_type": "code",
   "execution_count": 50,
   "metadata": {},
   "outputs": [
    {
     "data": {
      "text/html": [
       "<div>\n",
       "<style scoped>\n",
       "    .dataframe tbody tr th:only-of-type {\n",
       "        vertical-align: middle;\n",
       "    }\n",
       "\n",
       "    .dataframe tbody tr th {\n",
       "        vertical-align: top;\n",
       "    }\n",
       "\n",
       "    .dataframe thead th {\n",
       "        text-align: right;\n",
       "    }\n",
       "</style>\n",
       "<table border=\"1\" class=\"dataframe\">\n",
       "  <thead>\n",
       "    <tr style=\"text-align: right;\">\n",
       "      <th></th>\n",
       "      <th>Item_Identifier</th>\n",
       "      <th>Outlet_Identifier</th>\n",
       "    </tr>\n",
       "  </thead>\n",
       "  <tbody>\n",
       "    <tr>\n",
       "      <th>0</th>\n",
       "      <td>FDW58</td>\n",
       "      <td>OUT049</td>\n",
       "    </tr>\n",
       "    <tr>\n",
       "      <th>1</th>\n",
       "      <td>FDW14</td>\n",
       "      <td>OUT017</td>\n",
       "    </tr>\n",
       "    <tr>\n",
       "      <th>2</th>\n",
       "      <td>NCN55</td>\n",
       "      <td>OUT010</td>\n",
       "    </tr>\n",
       "    <tr>\n",
       "      <th>3</th>\n",
       "      <td>FDQ58</td>\n",
       "      <td>OUT017</td>\n",
       "    </tr>\n",
       "    <tr>\n",
       "      <th>4</th>\n",
       "      <td>FDY38</td>\n",
       "      <td>OUT027</td>\n",
       "    </tr>\n",
       "    <tr>\n",
       "      <th>...</th>\n",
       "      <td>...</td>\n",
       "      <td>...</td>\n",
       "    </tr>\n",
       "    <tr>\n",
       "      <th>5676</th>\n",
       "      <td>FDB58</td>\n",
       "      <td>OUT046</td>\n",
       "    </tr>\n",
       "    <tr>\n",
       "      <th>5677</th>\n",
       "      <td>FDD47</td>\n",
       "      <td>OUT018</td>\n",
       "    </tr>\n",
       "    <tr>\n",
       "      <th>5678</th>\n",
       "      <td>NCO17</td>\n",
       "      <td>OUT045</td>\n",
       "    </tr>\n",
       "    <tr>\n",
       "      <th>5679</th>\n",
       "      <td>FDJ26</td>\n",
       "      <td>OUT017</td>\n",
       "    </tr>\n",
       "    <tr>\n",
       "      <th>5680</th>\n",
       "      <td>FDU37</td>\n",
       "      <td>OUT045</td>\n",
       "    </tr>\n",
       "  </tbody>\n",
       "</table>\n",
       "<p>5681 rows × 2 columns</p>\n",
       "</div>"
      ],
      "text/plain": [
       "     Item_Identifier Outlet_Identifier\n",
       "0              FDW58            OUT049\n",
       "1              FDW14            OUT017\n",
       "2              NCN55            OUT010\n",
       "3              FDQ58            OUT017\n",
       "4              FDY38            OUT027\n",
       "...              ...               ...\n",
       "5676           FDB58            OUT046\n",
       "5677           FDD47            OUT018\n",
       "5678           NCO17            OUT045\n",
       "5679           FDJ26            OUT017\n",
       "5680           FDU37            OUT045\n",
       "\n",
       "[5681 rows x 2 columns]"
      ]
     },
     "execution_count": 50,
     "metadata": {},
     "output_type": "execute_result"
    }
   ],
   "source": [
    "df1=df[['Item_Identifier','Outlet_Identifier']]\n",
    "df1"
   ]
  },
  {
   "cell_type": "code",
   "execution_count": 51,
   "metadata": {
    "scrolled": true
   },
   "outputs": [
    {
     "name": "stdout",
     "output_type": "stream",
     "text": [
      "<class 'pandas.core.frame.DataFrame'>\n",
      "RangeIndex: 5681 entries, 0 to 5680\n",
      "Data columns (total 11 columns):\n",
      " #   Column                     Non-Null Count  Dtype  \n",
      "---  ------                     --------------  -----  \n",
      " 0   Item_Identifier            5681 non-null   object \n",
      " 1   Item_Weight                4705 non-null   float64\n",
      " 2   Item_Fat_Content           5681 non-null   object \n",
      " 3   Item_Visibility            5681 non-null   float64\n",
      " 4   Item_Type                  5681 non-null   object \n",
      " 5   Item_MRP                   5681 non-null   float64\n",
      " 6   Outlet_Identifier          5681 non-null   object \n",
      " 7   Outlet_Establishment_Year  5681 non-null   int64  \n",
      " 8   Outlet_Size                4075 non-null   object \n",
      " 9   Outlet_Location_Type       5681 non-null   object \n",
      " 10  Outlet_Type                5681 non-null   object \n",
      "dtypes: float64(3), int64(1), object(7)\n",
      "memory usage: 488.3+ KB\n"
     ]
    }
   ],
   "source": [
    "df.info()"
   ]
  },
  {
   "cell_type": "code",
   "execution_count": 52,
   "metadata": {},
   "outputs": [
    {
     "data": {
      "text/plain": [
       "Item_Identifier                 0\n",
       "Item_Weight                   976\n",
       "Item_Fat_Content                0\n",
       "Item_Visibility                 0\n",
       "Item_Type                       0\n",
       "Item_MRP                        0\n",
       "Outlet_Identifier               0\n",
       "Outlet_Establishment_Year       0\n",
       "Outlet_Size                  1606\n",
       "Outlet_Location_Type            0\n",
       "Outlet_Type                     0\n",
       "dtype: int64"
      ]
     },
     "execution_count": 52,
     "metadata": {},
     "output_type": "execute_result"
    }
   ],
   "source": [
    "#checking for null values\n",
    "df.isna().sum()"
   ]
  },
  {
   "cell_type": "code",
   "execution_count": 53,
   "metadata": {},
   "outputs": [
    {
     "data": {
      "text/plain": [
       "<AxesSubplot:>"
      ]
     },
     "execution_count": 53,
     "metadata": {},
     "output_type": "execute_result"
    },
    {
     "data": {
      "image/png": "[encoded data removed]",
      "text/plain": [
       "<Figure size 864x432 with 1 Axes>"
      ]
     },
     "metadata": {
      "needs_background": "light"
     },
     "output_type": "display_data"
    }
   ],
   "source": [
    "df['Item_Weight'].hist(figsize=(12,6))"
   ]
  },
  {
   "cell_type": "code",
   "execution_count": 54,
   "metadata": {},
   "outputs": [],
   "source": [
    "#replacing null values\n",
    "df['Item_Weight']=df['Item_Weight'].fillna(df['Item_Weight'].mean())\n",
    "df['Outlet_Size']=df['Outlet_Size'].fillna(df['Outlet_Size'].mode()[0])"
   ]
  },
  {
   "cell_type": "code",
   "execution_count": 55,
   "metadata": {},
   "outputs": [
    {
     "data": {
      "text/plain": [
       "Item_Identifier              0\n",
       "Item_Weight                  0\n",
       "Item_Fat_Content             0\n",
       "Item_Visibility              0\n",
       "Item_Type                    0\n",
       "Item_MRP                     0\n",
       "Outlet_Identifier            0\n",
       "Outlet_Establishment_Year    0\n",
       "Outlet_Size                  0\n",
       "Outlet_Location_Type         0\n",
       "Outlet_Type                  0\n",
       "dtype: int64"
      ]
     },
     "execution_count": 55,
     "metadata": {},
     "output_type": "execute_result"
    }
   ],
   "source": [
    "df.isna().sum()"
   ]
  },
  {
   "cell_type": "code",
   "execution_count": 56,
   "metadata": {},
   "outputs": [
    {
     "data": {
      "text/html": [
       "<div>\n",
       "<style scoped>\n",
       "    .dataframe tbody tr th:only-of-type {\n",
       "        vertical-align: middle;\n",
       "    }\n",
       "\n",
       "    .dataframe tbody tr th {\n",
       "        vertical-align: top;\n",
       "    }\n",
       "\n",
       "    .dataframe thead th {\n",
       "        text-align: right;\n",
       "    }\n",
       "</style>\n",
       "<table border=\"1\" class=\"dataframe\">\n",
       "  <thead>\n",
       "    <tr style=\"text-align: right;\">\n",
       "      <th></th>\n",
       "      <th>Item_Weight</th>\n",
       "      <th>Item_Visibility</th>\n",
       "      <th>Item_MRP</th>\n",
       "      <th>Outlet_Establishment_Year</th>\n",
       "    </tr>\n",
       "  </thead>\n",
       "  <tbody>\n",
       "    <tr>\n",
       "      <th>count</th>\n",
       "      <td>5681.000000</td>\n",
       "      <td>5681.000000</td>\n",
       "      <td>5681.000000</td>\n",
       "      <td>5681.000000</td>\n",
       "    </tr>\n",
       "    <tr>\n",
       "      <th>mean</th>\n",
       "      <td>12.695633</td>\n",
       "      <td>0.065684</td>\n",
       "      <td>141.023273</td>\n",
       "      <td>1997.828903</td>\n",
       "    </tr>\n",
       "    <tr>\n",
       "      <th>std</th>\n",
       "      <td>4.245189</td>\n",
       "      <td>0.051252</td>\n",
       "      <td>61.809091</td>\n",
       "      <td>8.372256</td>\n",
       "    </tr>\n",
       "    <tr>\n",
       "      <th>min</th>\n",
       "      <td>4.555000</td>\n",
       "      <td>0.000000</td>\n",
       "      <td>31.990000</td>\n",
       "      <td>1985.000000</td>\n",
       "    </tr>\n",
       "    <tr>\n",
       "      <th>25%</th>\n",
       "      <td>9.195000</td>\n",
       "      <td>0.027047</td>\n",
       "      <td>94.412000</td>\n",
       "      <td>1987.000000</td>\n",
       "    </tr>\n",
       "    <tr>\n",
       "      <th>50%</th>\n",
       "      <td>12.695633</td>\n",
       "      <td>0.054154</td>\n",
       "      <td>141.415400</td>\n",
       "      <td>1999.000000</td>\n",
       "    </tr>\n",
       "    <tr>\n",
       "      <th>75%</th>\n",
       "      <td>15.850000</td>\n",
       "      <td>0.093463</td>\n",
       "      <td>186.026600</td>\n",
       "      <td>2004.000000</td>\n",
       "    </tr>\n",
       "    <tr>\n",
       "      <th>max</th>\n",
       "      <td>21.350000</td>\n",
       "      <td>0.323637</td>\n",
       "      <td>266.588400</td>\n",
       "      <td>2009.000000</td>\n",
       "    </tr>\n",
       "  </tbody>\n",
       "</table>\n",
       "</div>"
      ],
      "text/plain": [
       "       Item_Weight  Item_Visibility     Item_MRP  Outlet_Establishment_Year\n",
       "count  5681.000000      5681.000000  5681.000000                5681.000000\n",
       "mean     12.695633         0.065684   141.023273                1997.828903\n",
       "std       4.245189         0.051252    61.809091                   8.372256\n",
       "min       4.555000         0.000000    31.990000                1985.000000\n",
       "25%       9.195000         0.027047    94.412000                1987.000000\n",
       "50%      12.695633         0.054154   141.415400                1999.000000\n",
       "75%      15.850000         0.093463   186.026600                2004.000000\n",
       "max      21.350000         0.323637   266.588400                2009.000000"
      ]
     },
     "execution_count": 56,
     "metadata": {},
     "output_type": "execute_result"
    }
   ],
   "source": [
    "df.describe()"
   ]
  },
  {
   "cell_type": "code",
   "execution_count": 57,
   "metadata": {},
   "outputs": [],
   "source": [
    "# box plot"
   ]
  },
  {
   "cell_type": "code",
   "execution_count": 58,
   "metadata": {
    "scrolled": true
   },
   "outputs": [
    {
     "data": {
      "image/png": "[encoded data removed]",
      "text/plain": [
       "<Figure size 432x288 with 1 Axes>"
      ]
     },
     "metadata": {
      "needs_background": "light"
     },
     "output_type": "display_data"
    }
   ],
   "source": [
    "plt.boxplot(df['Item_MRP'])\n",
    "plt.show()"
   ]
  },
  {
   "cell_type": "code",
   "execution_count": 59,
   "metadata": {},
   "outputs": [
    {
     "data": {
      "image/png": "[encoded data removed]",
      "text/plain": [
       "<Figure size 432x288 with 1 Axes>"
      ]
     },
     "metadata": {
      "needs_background": "light"
     },
     "output_type": "display_data"
    }
   ],
   "source": [
    "plt.boxplot(df['Item_Weight'])\n",
    "plt.show()"
   ]
  },
  {
   "cell_type": "code",
   "execution_count": 60,
   "metadata": {},
   "outputs": [
    {
     "data": {
      "text/plain": [
       "Low Fat    3396\n",
       "Regular    1935\n",
       "LF          206\n",
       "reg          78\n",
       "low fat      66\n",
       "Name: Item_Fat_Content, dtype: int64"
      ]
     },
     "execution_count": 60,
     "metadata": {},
     "output_type": "execute_result"
    }
   ],
   "source": [
    "df['Item_Fat_Content'].value_counts()\n"
   ]
  },
  {
   "cell_type": "code",
   "execution_count": 61,
   "metadata": {},
   "outputs": [],
   "source": [
    "df['Item_Fat_Content'].replace(['LF','low fat','reg'],['Low Fat','Low Fat','Regular'],inplace=True)"
   ]
  },
  {
   "cell_type": "code",
   "execution_count": 62,
   "metadata": {},
   "outputs": [
    {
     "data": {
      "text/plain": [
       "Low Fat    3668\n",
       "Regular    2013\n",
       "Name: Item_Fat_Content, dtype: int64"
      ]
     },
     "execution_count": 62,
     "metadata": {},
     "output_type": "execute_result"
    }
   ],
   "source": [
    "df['Item_Fat_Content'].value_counts()\n"
   ]
  },
  {
   "cell_type": "code",
   "execution_count": 63,
   "metadata": {},
   "outputs": [],
   "source": [
    "#Min max scalig of the features\n",
    "from sklearn.preprocessing import MinMaxScaler\n",
    "scaler=MinMaxScaler(feature_range=(0,1))\n",
    "df.loc[:,['Item_Weight','Item_Visibility','Item_MRP']]=scaler.fit_transform(df[['Item_Weight','Item_Visibility','Item_MRP']])"
   ]
  },
  {
   "cell_type": "code",
   "execution_count": 64,
   "metadata": {},
   "outputs": [],
   "source": [
    "df['Outlet_Establishment_Year']=df['Outlet_Establishment_Year'].astype(object,copy=True)"
   ]
  },
  {
   "cell_type": "code",
   "execution_count": 65,
   "metadata": {},
   "outputs": [],
   "source": [
    "#label encoding the features\n",
    "from sklearn.preprocessing import LabelEncoder\n",
    "le=LabelEncoder()\n",
    "df['Item_Identifier']=le.fit_transform(df['Item_Identifier'])\n",
    "df['Outlet_Size']=le.fit_transform(df['Outlet_Size'])\n",
    "df['Item_Fat_Content']=le.fit_transform(df['Item_Fat_Content'])\n",
    "df['Outlet_Establishment_Year']=le.fit_transform(df['Outlet_Establishment_Year'])\n",
    "df['Outlet_Identifier']=le.fit_transform(df['Outlet_Identifier'])"
   ]
  },
  {
   "cell_type": "code",
   "execution_count": 66,
   "metadata": {},
   "outputs": [],
   "source": [
    "#one hot encoding on the features\n",
    "df=pd.get_dummies(df,columns=['Outlet_Location_Type','Item_Type','Outlet_Type'])\n"
   ]
  },
  {
   "cell_type": "code",
   "execution_count": 67,
   "metadata": {},
   "outputs": [
    {
     "data": {
      "text/html": [
       "<div>\n",
       "<style scoped>\n",
       "    .dataframe tbody tr th:only-of-type {\n",
       "        vertical-align: middle;\n",
       "    }\n",
       "\n",
       "    .dataframe tbody tr th {\n",
       "        vertical-align: top;\n",
       "    }\n",
       "\n",
       "    .dataframe thead th {\n",
       "        text-align: right;\n",
       "    }\n",
       "</style>\n",
       "<table border=\"1\" class=\"dataframe\">\n",
       "  <thead>\n",
       "    <tr style=\"text-align: right;\">\n",
       "      <th></th>\n",
       "      <th>Item_Identifier</th>\n",
       "      <th>Item_Weight</th>\n",
       "      <th>Item_Fat_Content</th>\n",
       "      <th>Item_Visibility</th>\n",
       "      <th>Item_MRP</th>\n",
       "      <th>Outlet_Identifier</th>\n",
       "      <th>Outlet_Establishment_Year</th>\n",
       "      <th>Outlet_Size</th>\n",
       "      <th>Outlet_Location_Type_Tier 1</th>\n",
       "      <th>Outlet_Location_Type_Tier 2</th>\n",
       "      <th>...</th>\n",
       "      <th>Item_Type_Meat</th>\n",
       "      <th>Item_Type_Others</th>\n",
       "      <th>Item_Type_Seafood</th>\n",
       "      <th>Item_Type_Snack Foods</th>\n",
       "      <th>Item_Type_Soft Drinks</th>\n",
       "      <th>Item_Type_Starchy Foods</th>\n",
       "      <th>Outlet_Type_Grocery Store</th>\n",
       "      <th>Outlet_Type_Supermarket Type1</th>\n",
       "      <th>Outlet_Type_Supermarket Type2</th>\n",
       "      <th>Outlet_Type_Supermarket Type3</th>\n",
       "    </tr>\n",
       "  </thead>\n",
       "  <tbody>\n",
       "    <tr>\n",
       "      <th>0</th>\n",
       "      <td>1103</td>\n",
       "      <td>0.964275</td>\n",
       "      <td>0</td>\n",
       "      <td>0.023374</td>\n",
       "      <td>0.323413</td>\n",
       "      <td>9</td>\n",
       "      <td>4</td>\n",
       "      <td>1</td>\n",
       "      <td>1</td>\n",
       "      <td>0</td>\n",
       "      <td>...</td>\n",
       "      <td>0</td>\n",
       "      <td>0</td>\n",
       "      <td>0</td>\n",
       "      <td>1</td>\n",
       "      <td>0</td>\n",
       "      <td>0</td>\n",
       "      <td>0</td>\n",
       "      <td>1</td>\n",
       "      <td>0</td>\n",
       "      <td>0</td>\n",
       "    </tr>\n",
       "    <tr>\n",
       "      <th>1</th>\n",
       "      <td>1067</td>\n",
       "      <td>0.222983</td>\n",
       "      <td>1</td>\n",
       "      <td>0.118737</td>\n",
       "      <td>0.235849</td>\n",
       "      <td>2</td>\n",
       "      <td>7</td>\n",
       "      <td>1</td>\n",
       "      <td>0</td>\n",
       "      <td>1</td>\n",
       "      <td>...</td>\n",
       "      <td>0</td>\n",
       "      <td>0</td>\n",
       "      <td>0</td>\n",
       "      <td>0</td>\n",
       "      <td>0</td>\n",
       "      <td>0</td>\n",
       "      <td>0</td>\n",
       "      <td>1</td>\n",
       "      <td>0</td>\n",
       "      <td>0</td>\n",
       "    </tr>\n",
       "    <tr>\n",
       "      <th>2</th>\n",
       "      <td>1406</td>\n",
       "      <td>0.598095</td>\n",
       "      <td>0</td>\n",
       "      <td>0.307674</td>\n",
       "      <td>0.894140</td>\n",
       "      <td>0</td>\n",
       "      <td>3</td>\n",
       "      <td>1</td>\n",
       "      <td>0</td>\n",
       "      <td>0</td>\n",
       "      <td>...</td>\n",
       "      <td>0</td>\n",
       "      <td>1</td>\n",
       "      <td>0</td>\n",
       "      <td>0</td>\n",
       "      <td>0</td>\n",
       "      <td>0</td>\n",
       "      <td>1</td>\n",
       "      <td>0</td>\n",
       "      <td>0</td>\n",
       "      <td>0</td>\n",
       "    </tr>\n",
       "    <tr>\n",
       "      <th>3</th>\n",
       "      <td>809</td>\n",
       "      <td>0.164335</td>\n",
       "      <td>0</td>\n",
       "      <td>0.047548</td>\n",
       "      <td>0.524488</td>\n",
       "      <td>2</td>\n",
       "      <td>7</td>\n",
       "      <td>1</td>\n",
       "      <td>0</td>\n",
       "      <td>1</td>\n",
       "      <td>...</td>\n",
       "      <td>0</td>\n",
       "      <td>0</td>\n",
       "      <td>0</td>\n",
       "      <td>1</td>\n",
       "      <td>0</td>\n",
       "      <td>0</td>\n",
       "      <td>0</td>\n",
       "      <td>1</td>\n",
       "      <td>0</td>\n",
       "      <td>0</td>\n",
       "    </tr>\n",
       "    <tr>\n",
       "      <th>4</th>\n",
       "      <td>1184</td>\n",
       "      <td>0.484706</td>\n",
       "      <td>1</td>\n",
       "      <td>0.366458</td>\n",
       "      <td>0.862069</td>\n",
       "      <td>5</td>\n",
       "      <td>0</td>\n",
       "      <td>1</td>\n",
       "      <td>0</td>\n",
       "      <td>0</td>\n",
       "      <td>...</td>\n",
       "      <td>0</td>\n",
       "      <td>0</td>\n",
       "      <td>0</td>\n",
       "      <td>0</td>\n",
       "      <td>0</td>\n",
       "      <td>0</td>\n",
       "      <td>0</td>\n",
       "      <td>0</td>\n",
       "      <td>0</td>\n",
       "      <td>1</td>\n",
       "    </tr>\n",
       "  </tbody>\n",
       "</table>\n",
       "<p>5 rows × 31 columns</p>\n",
       "</div>"
      ],
      "text/plain": [
       "   Item_Identifier  Item_Weight  Item_Fat_Content  Item_Visibility  Item_MRP  \\\n",
       "0             1103     0.964275                 0         0.023374  0.323413   \n",
       "1             1067     0.222983                 1         0.118737  0.235849   \n",
       "2             1406     0.598095                 0         0.307674  0.894140   \n",
       "3              809     0.164335                 0         0.047548  0.524488   \n",
       "4             1184     0.484706                 1         0.366458  0.862069   \n",
       "\n",
       "   Outlet_Identifier  Outlet_Establishment_Year  Outlet_Size  \\\n",
       "0                  9                          4            1   \n",
       "1                  2                          7            1   \n",
       "2                  0                          3            1   \n",
       "3                  2                          7            1   \n",
       "4                  5                          0            1   \n",
       "\n",
       "   Outlet_Location_Type_Tier 1  Outlet_Location_Type_Tier 2  ...  \\\n",
       "0                            1                            0  ...   \n",
       "1                            0                            1  ...   \n",
       "2                            0                            0  ...   \n",
       "3                            0                            1  ...   \n",
       "4                            0                            0  ...   \n",
       "\n",
       "   Item_Type_Meat  Item_Type_Others  Item_Type_Seafood  Item_Type_Snack Foods  \\\n",
       "0               0                 0                  0                      1   \n",
       "1               0                 0                  0                      0   \n",
       "2               0                 1                  0                      0   \n",
       "3               0                 0                  0                      1   \n",
       "4               0                 0                  0                      0   \n",
       "\n",
       "   Item_Type_Soft Drinks  Item_Type_Starchy Foods  Outlet_Type_Grocery Store  \\\n",
       "0                      0                        0                          0   \n",
       "1                      0                        0                          0   \n",
       "2                      0                        0                          1   \n",
       "3                      0                        0                          0   \n",
       "4                      0                        0                          0   \n",
       "\n",
       "   Outlet_Type_Supermarket Type1  Outlet_Type_Supermarket Type2  \\\n",
       "0                              1                              0   \n",
       "1                              1                              0   \n",
       "2                              0                              0   \n",
       "3                              1                              0   \n",
       "4                              0                              0   \n",
       "\n",
       "   Outlet_Type_Supermarket Type3  \n",
       "0                              0  \n",
       "1                              0  \n",
       "2                              0  \n",
       "3                              0  \n",
       "4                              1  \n",
       "\n",
       "[5 rows x 31 columns]"
      ]
     },
     "execution_count": 67,
     "metadata": {},
     "output_type": "execute_result"
    }
   ],
   "source": [
    "df.head()"
   ]
  },
  {
   "cell_type": "code",
   "execution_count": 68,
   "metadata": {},
   "outputs": [],
   "source": [
    "# predicting using lasso regression\n",
    "test_predict=lasso_r.predict(df)"
   ]
  },
  {
   "cell_type": "code",
   "execution_count": 69,
   "metadata": {},
   "outputs": [
    {
     "data": {
      "text/html": [
       "<div>\n",
       "<style scoped>\n",
       "    .dataframe tbody tr th:only-of-type {\n",
       "        vertical-align: middle;\n",
       "    }\n",
       "\n",
       "    .dataframe tbody tr th {\n",
       "        vertical-align: top;\n",
       "    }\n",
       "\n",
       "    .dataframe thead th {\n",
       "        text-align: right;\n",
       "    }\n",
       "</style>\n",
       "<table border=\"1\" class=\"dataframe\">\n",
       "  <thead>\n",
       "    <tr style=\"text-align: right;\">\n",
       "      <th></th>\n",
       "      <th>Item_Outlet_Sales</th>\n",
       "    </tr>\n",
       "  </thead>\n",
       "  <tbody>\n",
       "    <tr>\n",
       "      <th>0</th>\n",
       "      <td>2633.439349</td>\n",
       "    </tr>\n",
       "    <tr>\n",
       "      <th>1</th>\n",
       "      <td>2529.902502</td>\n",
       "    </tr>\n",
       "    <tr>\n",
       "      <th>2</th>\n",
       "      <td>1270.628089</td>\n",
       "    </tr>\n",
       "    <tr>\n",
       "      <th>3</th>\n",
       "      <td>2788.039348</td>\n",
       "    </tr>\n",
       "    <tr>\n",
       "      <th>4</th>\n",
       "      <td>4520.941716</td>\n",
       "    </tr>\n",
       "    <tr>\n",
       "      <th>...</th>\n",
       "      <td>...</td>\n",
       "    </tr>\n",
       "    <tr>\n",
       "      <th>5676</th>\n",
       "      <td>2784.898545</td>\n",
       "    </tr>\n",
       "    <tr>\n",
       "      <th>5677</th>\n",
       "      <td>2573.151885</td>\n",
       "    </tr>\n",
       "    <tr>\n",
       "      <th>5678</th>\n",
       "      <td>2663.146793</td>\n",
       "    </tr>\n",
       "    <tr>\n",
       "      <th>5679</th>\n",
       "      <td>3048.583919</td>\n",
       "    </tr>\n",
       "    <tr>\n",
       "      <th>5680</th>\n",
       "      <td>2518.419853</td>\n",
       "    </tr>\n",
       "  </tbody>\n",
       "</table>\n",
       "<p>5681 rows × 1 columns</p>\n",
       "</div>"
      ],
      "text/plain": [
       "      Item_Outlet_Sales\n",
       "0           2633.439349\n",
       "1           2529.902502\n",
       "2           1270.628089\n",
       "3           2788.039348\n",
       "4           4520.941716\n",
       "...                 ...\n",
       "5676        2784.898545\n",
       "5677        2573.151885\n",
       "5678        2663.146793\n",
       "5679        3048.583919\n",
       "5680        2518.419853\n",
       "\n",
       "[5681 rows x 1 columns]"
      ]
     },
     "execution_count": 69,
     "metadata": {},
     "output_type": "execute_result"
    }
   ],
   "source": [
    "test=pd.DataFrame(test_predict,columns=['Item_Outlet_Sales'])\n",
    "test"
   ]
  },
  {
   "cell_type": "code",
   "execution_count": 70,
   "metadata": {},
   "outputs": [
    {
     "data": {
      "text/html": [
       "<div>\n",
       "<style scoped>\n",
       "    .dataframe tbody tr th:only-of-type {\n",
       "        vertical-align: middle;\n",
       "    }\n",
       "\n",
       "    .dataframe tbody tr th {\n",
       "        vertical-align: top;\n",
       "    }\n",
       "\n",
       "    .dataframe thead th {\n",
       "        text-align: right;\n",
       "    }\n",
       "</style>\n",
       "<table border=\"1\" class=\"dataframe\">\n",
       "  <thead>\n",
       "    <tr style=\"text-align: right;\">\n",
       "      <th></th>\n",
       "      <th>Item_Identifier</th>\n",
       "      <th>Outlet_Identifier</th>\n",
       "    </tr>\n",
       "  </thead>\n",
       "  <tbody>\n",
       "    <tr>\n",
       "      <th>0</th>\n",
       "      <td>FDW58</td>\n",
       "      <td>OUT049</td>\n",
       "    </tr>\n",
       "    <tr>\n",
       "      <th>1</th>\n",
       "      <td>FDW14</td>\n",
       "      <td>OUT017</td>\n",
       "    </tr>\n",
       "    <tr>\n",
       "      <th>2</th>\n",
       "      <td>NCN55</td>\n",
       "      <td>OUT010</td>\n",
       "    </tr>\n",
       "    <tr>\n",
       "      <th>3</th>\n",
       "      <td>FDQ58</td>\n",
       "      <td>OUT017</td>\n",
       "    </tr>\n",
       "    <tr>\n",
       "      <th>4</th>\n",
       "      <td>FDY38</td>\n",
       "      <td>OUT027</td>\n",
       "    </tr>\n",
       "    <tr>\n",
       "      <th>...</th>\n",
       "      <td>...</td>\n",
       "      <td>...</td>\n",
       "    </tr>\n",
       "    <tr>\n",
       "      <th>5676</th>\n",
       "      <td>FDB58</td>\n",
       "      <td>OUT046</td>\n",
       "    </tr>\n",
       "    <tr>\n",
       "      <th>5677</th>\n",
       "      <td>FDD47</td>\n",
       "      <td>OUT018</td>\n",
       "    </tr>\n",
       "    <tr>\n",
       "      <th>5678</th>\n",
       "      <td>NCO17</td>\n",
       "      <td>OUT045</td>\n",
       "    </tr>\n",
       "    <tr>\n",
       "      <th>5679</th>\n",
       "      <td>FDJ26</td>\n",
       "      <td>OUT017</td>\n",
       "    </tr>\n",
       "    <tr>\n",
       "      <th>5680</th>\n",
       "      <td>FDU37</td>\n",
       "      <td>OUT045</td>\n",
       "    </tr>\n",
       "  </tbody>\n",
       "</table>\n",
       "<p>5681 rows × 2 columns</p>\n",
       "</div>"
      ],
      "text/plain": [
       "     Item_Identifier Outlet_Identifier\n",
       "0              FDW58            OUT049\n",
       "1              FDW14            OUT017\n",
       "2              NCN55            OUT010\n",
       "3              FDQ58            OUT017\n",
       "4              FDY38            OUT027\n",
       "...              ...               ...\n",
       "5676           FDB58            OUT046\n",
       "5677           FDD47            OUT018\n",
       "5678           NCO17            OUT045\n",
       "5679           FDJ26            OUT017\n",
       "5680           FDU37            OUT045\n",
       "\n",
       "[5681 rows x 2 columns]"
      ]
     },
     "execution_count": 70,
     "metadata": {},
     "output_type": "execute_result"
    }
   ],
   "source": [
    "df1"
   ]
  },
  {
   "cell_type": "code",
   "execution_count": 71,
   "metadata": {},
   "outputs": [
    {
     "data": {
      "text/html": [
       "<div>\n",
       "<style scoped>\n",
       "    .dataframe tbody tr th:only-of-type {\n",
       "        vertical-align: middle;\n",
       "    }\n",
       "\n",
       "    .dataframe tbody tr th {\n",
       "        vertical-align: top;\n",
       "    }\n",
       "\n",
       "    .dataframe thead th {\n",
       "        text-align: right;\n",
       "    }\n",
       "</style>\n",
       "<table border=\"1\" class=\"dataframe\">\n",
       "  <thead>\n",
       "    <tr style=\"text-align: right;\">\n",
       "      <th></th>\n",
       "      <th>Item_Identifier</th>\n",
       "      <th>Outlet_Identifier</th>\n",
       "      <th>Item_Outlet_Sales</th>\n",
       "    </tr>\n",
       "  </thead>\n",
       "  <tbody>\n",
       "    <tr>\n",
       "      <th>0</th>\n",
       "      <td>FDW58</td>\n",
       "      <td>OUT049</td>\n",
       "      <td>2633.439349</td>\n",
       "    </tr>\n",
       "    <tr>\n",
       "      <th>1</th>\n",
       "      <td>FDW14</td>\n",
       "      <td>OUT017</td>\n",
       "      <td>2529.902502</td>\n",
       "    </tr>\n",
       "    <tr>\n",
       "      <th>2</th>\n",
       "      <td>NCN55</td>\n",
       "      <td>OUT010</td>\n",
       "      <td>1270.628089</td>\n",
       "    </tr>\n",
       "    <tr>\n",
       "      <th>3</th>\n",
       "      <td>FDQ58</td>\n",
       "      <td>OUT017</td>\n",
       "      <td>2788.039348</td>\n",
       "    </tr>\n",
       "    <tr>\n",
       "      <th>4</th>\n",
       "      <td>FDY38</td>\n",
       "      <td>OUT027</td>\n",
       "      <td>4520.941716</td>\n",
       "    </tr>\n",
       "    <tr>\n",
       "      <th>...</th>\n",
       "      <td>...</td>\n",
       "      <td>...</td>\n",
       "      <td>...</td>\n",
       "    </tr>\n",
       "    <tr>\n",
       "      <th>5676</th>\n",
       "      <td>FDB58</td>\n",
       "      <td>OUT046</td>\n",
       "      <td>2784.898545</td>\n",
       "    </tr>\n",
       "    <tr>\n",
       "      <th>5677</th>\n",
       "      <td>FDD47</td>\n",
       "      <td>OUT018</td>\n",
       "      <td>2573.151885</td>\n",
       "    </tr>\n",
       "    <tr>\n",
       "      <th>5678</th>\n",
       "      <td>NCO17</td>\n",
       "      <td>OUT045</td>\n",
       "      <td>2663.146793</td>\n",
       "    </tr>\n",
       "    <tr>\n",
       "      <th>5679</th>\n",
       "      <td>FDJ26</td>\n",
       "      <td>OUT017</td>\n",
       "      <td>3048.583919</td>\n",
       "    </tr>\n",
       "    <tr>\n",
       "      <th>5680</th>\n",
       "      <td>FDU37</td>\n",
       "      <td>OUT045</td>\n",
       "      <td>2518.419853</td>\n",
       "    </tr>\n",
       "  </tbody>\n",
       "</table>\n",
       "<p>5681 rows × 3 columns</p>\n",
       "</div>"
      ],
      "text/plain": [
       "     Item_Identifier Outlet_Identifier  Item_Outlet_Sales\n",
       "0              FDW58            OUT049        2633.439349\n",
       "1              FDW14            OUT017        2529.902502\n",
       "2              NCN55            OUT010        1270.628089\n",
       "3              FDQ58            OUT017        2788.039348\n",
       "4              FDY38            OUT027        4520.941716\n",
       "...              ...               ...                ...\n",
       "5676           FDB58            OUT046        2784.898545\n",
       "5677           FDD47            OUT018        2573.151885\n",
       "5678           NCO17            OUT045        2663.146793\n",
       "5679           FDJ26            OUT017        3048.583919\n",
       "5680           FDU37            OUT045        2518.419853\n",
       "\n",
       "[5681 rows x 3 columns]"
      ]
     },
     "execution_count": 71,
     "metadata": {},
     "output_type": "execute_result"
    }
   ],
   "source": [
    "test_modified=pd.concat([df1,test],axis=1)\n",
    "test_modified"
   ]
  },
  {
   "cell_type": "code",
   "execution_count": 72,
   "metadata": {},
   "outputs": [],
   "source": [
    "test_data2=test_modified.to_csv(\"test_data2.csv\",index=False)\n"
   ]
  },
  {
   "cell_type": "code",
   "execution_count": null,
   "metadata": {},
   "outputs": [],
   "source": []
  }
 ],
 "metadata": {
  "kernelspec": {
   "display_name": "Python 3",
   "language": "python",
   "name": "python3"
  },
  "language_info": {
   "codemirror_mode": {
    "name": "ipython",
    "version": 3
   },
   "file_extension": ".py",
   "mimetype": "text/x-python",
   "name": "python",
   "nbconvert_exporter": "python",
   "pygments_lexer": "ipython3",
   "version": "3.8.5"
  }
 },
 "nbformat": 4,
 "nbformat_minor": 4
}
